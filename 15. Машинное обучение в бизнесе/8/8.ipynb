{
 "cells": [
  {
   "cell_type": "markdown",
   "id": "e7e8f4eb",
   "metadata": {},
   "source": [
    "**Вопросы:**<br>\n",
    "**А.** Зачем делаем тест:<br>\n",
    "Это обязательный элемент отчета<br>\n",
    "хотим убедиться, что модель работает как предполагалось<br>\n",
    "**хотим убедиться , что конверсия при использовании модели, растет**br>\n",
    "\n",
    "**В.** Что проверяем при составлении программы эксперимента:<br>\n",
    "Число доступных примеров<br>\n",
    "Объем ресурсов для работы модели<br>\n",
    "**Целевой уровень значимости**<br>\n",
    "\n",
    "**С.** Когда не делаем А/B тест:<br>\n",
    "мало примеров для работы<br>\n",
    "нет времени<br>\n",
    "**нет денег**"
   ]
  }
 ],
 "metadata": {
  "kernelspec": {
   "display_name": "Python 3 (ipykernel)",
   "language": "python",
   "name": "python3"
  },
  "language_info": {
   "codemirror_mode": {
    "name": "ipython",
    "version": 3
   },
   "file_extension": ".py",
   "mimetype": "text/x-python",
   "name": "python",
   "nbconvert_exporter": "python",
   "pygments_lexer": "ipython3",
   "version": "3.10.8"
  }
 },
 "nbformat": 4,
 "nbformat_minor": 5
}
