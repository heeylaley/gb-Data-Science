{
 "cells": [
  {
   "cell_type": "markdown",
   "metadata": {
    "tags": []
   },
   "source": [
    "## Feed-forward сети"
   ]
  },
  {
   "cell_type": "code",
   "execution_count": null,
   "metadata": {},
   "outputs": [],
   "source": [
    "# !pip install torchvision"
   ]
  },
  {
   "cell_type": "code",
   "execution_count": 1,
   "metadata": {},
   "outputs": [],
   "source": [
    "# Итак, давайте потренируемся тренировать нейронные сети прямого распространения (так как делали на паре)\n",
    "# При этом попробуем создать свою функцию активации на одном из слоев\n",
    "# Сделаем необходимые импорты"
   ]
  },
  {
   "cell_type": "code",
   "execution_count": 2,
   "metadata": {},
   "outputs": [],
   "source": [
    "import torch\n",
    "import numpy as np\n",
    "\n",
    "from torch import nn\n",
    "from torch import optim\n",
    "import torchvision\n",
    "import torchvision.transforms as transforms\n",
    "from tqdm import tqdm\n",
    "import torch.nn.functional as F"
   ]
  },
  {
   "cell_type": "code",
   "execution_count": 3,
   "metadata": {},
   "outputs": [],
   "source": [
    "# Загрузим датасет CIFAR-100, сразу же создадим dataloader для него\n",
    "# Если вам не хватает вычислительных ресурсов, то можно вернуться к CIFAR-10"
   ]
  },
  {
   "cell_type": "code",
   "execution_count": 4,
   "metadata": {},
   "outputs": [
    {
     "name": "stdout",
     "output_type": "stream",
     "text": [
      "Files already downloaded and verified\n",
      "Files already downloaded and verified\n"
     ]
    }
   ],
   "source": [
    "transform = transforms.Compose([transforms.ToTensor(),\n",
    "                                transforms.Normalize((0.5, 0.5, 0.5), (0.5, 0.5, 0.5))])\n",
    "BATCH_SIZE = 4\n",
    "\n",
    "train_set = torchvision.datasets.CIFAR100(root='./data', train=True, download=True, transform=transform)\n",
    "train_loader = torch.utils.data.DataLoader(train_set, batch_size=BATCH_SIZE, shuffle=True, num_workers=2)\n",
    "\n",
    "test_set = torchvision.datasets.CIFAR100(root='./data', train=False, download=True, transform=transform)\n",
    "test_loader = torch.utils.data.DataLoader(test_set, batch_size = BATCH_SIZE, shuffle=False, num_workers=2)\n",
    "\n",
    "classes = ('plane', 'car', 'bird', 'cat',\n",
    "           'deer', 'dog', 'frog', 'horse', 'ship', 'truck')"
   ]
  },
  {
   "cell_type": "code",
   "execution_count": 5,
   "metadata": {},
   "outputs": [],
   "source": [
    "# Создайте собственную архитектуру! Можете использовать все, что угодно, но в ограничении на использование линейные слои (пока без сверток)\n",
    "# Давайте добавим ограниченный Leaky_relu, то есть output = max(0.1x, 0.5x)\n",
    "# Ваша задача добавить его в архитектуру сети как функцию активации"
   ]
  },
  {
   "cell_type": "code",
   "execution_count": 6,
   "metadata": {},
   "outputs": [],
   "source": [
    "class LeakyRelu(nn.Module):\n",
    "    def __init__(self, border:float, alpha:float) -> None:\n",
    "        super().__init__()\n",
    "        self.border = border\n",
    "        self.alpha = alpha\n",
    "        \n",
    "    def forward(self, input):\n",
    "        x = F.leaky_relu(input)\n",
    "        return torch.where(x > self.border, x * self.alpha, x)\n",
    "\n",
    "class Net(nn.Module):\n",
    "    def __init__(self) -> None:\n",
    "        super().__init__()\n",
    "        img_vector_size = 3072\n",
    "        self.fc1 = nn.Linear(img_vector_size,128)\n",
    "        self.fc2 = nn.Linear(128,64)\n",
    "        self.fc3 = nn.Linear(64,100)\n",
    "        self.cust_relu = LeakyRelu(0.1, 0.5)\n",
    "        \n",
    "    def forward(self, x):\n",
    "        x = x.view(x.shape[0], -1)        \n",
    "        x = self.cust_relu(self.fc1(x))\n",
    "        x = F.relu(self.fc2(x))\n",
    "        x = self.fc3(x)\n",
    "        return x\n",
    "    \n",
    "    def predict(self, x):\n",
    "        x = x.view(x.shape[0], -1)\n",
    "        \n",
    "        x = self.cust_relu(self.fc1(x))\n",
    "        x = F.relu(self.fc2(x))\n",
    "        x = F.softmax(self.fc3(x))\n",
    "        return x\n",
    "        \n",
    "net = Net()\n",
    "criterion = nn.CrossEntropyLoss()\n",
    "optimizer = torch.optim.Adam(net.parameters(), lr=0.001)"
   ]
  },
  {
   "cell_type": "code",
   "execution_count": 7,
   "metadata": {},
   "outputs": [],
   "source": [
    "# Запустить обучение (по аналогии с тем, что делали на паре)"
   ]
  },
  {
   "cell_type": "code",
   "execution_count": 8,
   "metadata": {},
   "outputs": [
    {
     "name": "stderr",
     "output_type": "stream",
     "text": [
      "  0%|                                                    | 0/10 [00:00<?, ?it/s]"
     ]
    },
    {
     "name": "stdout",
     "output_type": "stream",
     "text": [
      "[1,     1] loss: 0.002\n",
      "[1,   301] loss: 0.681\n",
      "[1,   601] loss: 0.658\n",
      "[1,   901] loss: 0.632\n",
      "[1,  1201] loss: 0.629\n",
      "[1,  1501] loss: 0.617\n",
      "[1,  1801] loss: 0.606\n",
      "[1,  2101] loss: 0.604\n",
      "[1,  2401] loss: 0.605\n",
      "[1,  2701] loss: 0.612\n",
      "[1,  3001] loss: 0.595\n",
      "[1,  3301] loss: 0.591\n",
      "[1,  3601] loss: 0.576\n",
      "[1,  3901] loss: 0.596\n",
      "[1,  4201] loss: 0.589\n",
      "[1,  4501] loss: 0.581\n",
      "[1,  4801] loss: 0.577\n",
      "[1,  5101] loss: 0.574\n",
      "[1,  5401] loss: 0.582\n",
      "[1,  5701] loss: 0.590\n",
      "[1,  6001] loss: 0.572\n",
      "[1,  6301] loss: 0.570\n",
      "[1,  6601] loss: 0.576\n",
      "[1,  6901] loss: 0.574\n",
      "[1,  7201] loss: 0.571\n",
      "[1,  7501] loss: 0.571\n",
      "[1,  7801] loss: 0.568\n",
      "[1,  8101] loss: 0.573\n",
      "[1,  8401] loss: 0.578\n",
      "[1,  8701] loss: 0.573\n",
      "[1,  9001] loss: 0.568\n",
      "[1,  9301] loss: 0.565\n",
      "[1,  9601] loss: 0.566\n",
      "[1,  9901] loss: 0.563\n",
      "[1, 10201] loss: 0.549\n",
      "[1, 10501] loss: 0.567\n",
      "[1, 10801] loss: 0.573\n",
      "[1, 11101] loss: 0.550\n",
      "[1, 11401] loss: 0.565\n",
      "[1, 11701] loss: 0.551\n",
      "[1, 12001] loss: 0.566\n",
      "[1, 12301] loss: 0.567\n"
     ]
    },
    {
     "name": "stderr",
     "output_type": "stream",
     "text": [
      " 10%|████▍                                       | 1/10 [01:04<09:44, 64.97s/it]"
     ]
    },
    {
     "name": "stdout",
     "output_type": "stream",
     "text": [
      "[2,     1] loss: 0.002\n",
      "[2,   301] loss: 0.542\n",
      "[2,   601] loss: 0.547\n",
      "[2,   901] loss: 0.556\n",
      "[2,  1201] loss: 0.550\n",
      "[2,  1501] loss: 0.556\n",
      "[2,  1801] loss: 0.540\n",
      "[2,  2101] loss: 0.544\n",
      "[2,  2401] loss: 0.540\n",
      "[2,  2701] loss: 0.545\n",
      "[2,  3001] loss: 0.556\n",
      "[2,  3301] loss: 0.554\n",
      "[2,  3601] loss: 0.549\n",
      "[2,  3901] loss: 0.532\n",
      "[2,  4201] loss: 0.558\n",
      "[2,  4501] loss: 0.560\n",
      "[2,  4801] loss: 0.552\n",
      "[2,  5101] loss: 0.542\n",
      "[2,  5401] loss: 0.564\n",
      "[2,  5701] loss: 0.541\n",
      "[2,  6001] loss: 0.548\n",
      "[2,  6301] loss: 0.559\n",
      "[2,  6601] loss: 0.553\n",
      "[2,  6901] loss: 0.549\n",
      "[2,  7201] loss: 0.554\n",
      "[2,  7501] loss: 0.555\n",
      "[2,  7801] loss: 0.549\n",
      "[2,  8101] loss: 0.542\n",
      "[2,  8401] loss: 0.543\n",
      "[2,  8701] loss: 0.550\n",
      "[2,  9001] loss: 0.553\n",
      "[2,  9301] loss: 0.543\n",
      "[2,  9601] loss: 0.546\n",
      "[2,  9901] loss: 0.544\n",
      "[2, 10201] loss: 0.545\n",
      "[2, 10501] loss: 0.550\n",
      "[2, 10801] loss: 0.555\n",
      "[2, 11101] loss: 0.550\n",
      "[2, 11401] loss: 0.552\n",
      "[2, 11701] loss: 0.545\n",
      "[2, 12001] loss: 0.549\n",
      "[2, 12301] loss: 0.545\n"
     ]
    },
    {
     "name": "stderr",
     "output_type": "stream",
     "text": [
      " 20%|████████▊                                   | 2/10 [02:09<08:35, 64.45s/it]"
     ]
    },
    {
     "name": "stdout",
     "output_type": "stream",
     "text": [
      "[3,     1] loss: 0.002\n",
      "[3,   301] loss: 0.529\n",
      "[3,   601] loss: 0.519\n",
      "[3,   901] loss: 0.544\n",
      "[3,  1201] loss: 0.521\n",
      "[3,  1501] loss: 0.547\n",
      "[3,  1801] loss: 0.533\n",
      "[3,  2101] loss: 0.538\n",
      "[3,  2401] loss: 0.529\n",
      "[3,  2701] loss: 0.532\n",
      "[3,  3001] loss: 0.550\n",
      "[3,  3301] loss: 0.535\n",
      "[3,  3601] loss: 0.537\n",
      "[3,  3901] loss: 0.530\n",
      "[3,  4201] loss: 0.537\n",
      "[3,  4501] loss: 0.540\n",
      "[3,  4801] loss: 0.537\n",
      "[3,  5101] loss: 0.534\n",
      "[3,  5401] loss: 0.531\n",
      "[3,  5701] loss: 0.527\n",
      "[3,  6001] loss: 0.536\n",
      "[3,  6301] loss: 0.535\n",
      "[3,  6601] loss: 0.551\n",
      "[3,  6901] loss: 0.546\n",
      "[3,  7201] loss: 0.534\n",
      "[3,  7501] loss: 0.535\n",
      "[3,  7801] loss: 0.545\n",
      "[3,  8101] loss: 0.547\n",
      "[3,  8401] loss: 0.542\n",
      "[3,  8701] loss: 0.543\n",
      "[3,  9001] loss: 0.540\n",
      "[3,  9301] loss: 0.543\n",
      "[3,  9601] loss: 0.542\n",
      "[3,  9901] loss: 0.543\n",
      "[3, 10201] loss: 0.541\n",
      "[3, 10501] loss: 0.549\n",
      "[3, 10801] loss: 0.534\n",
      "[3, 11101] loss: 0.545\n",
      "[3, 11401] loss: 0.541\n",
      "[3, 11701] loss: 0.531\n",
      "[3, 12001] loss: 0.529\n",
      "[3, 12301] loss: 0.536\n"
     ]
    },
    {
     "name": "stderr",
     "output_type": "stream",
     "text": [
      " 30%|█████████████▏                              | 3/10 [03:13<07:29, 64.25s/it]"
     ]
    },
    {
     "name": "stdout",
     "output_type": "stream",
     "text": [
      "[4,     1] loss: 0.001\n",
      "[4,   301] loss: 0.520\n",
      "[4,   601] loss: 0.521\n",
      "[4,   901] loss: 0.517\n",
      "[4,  1201] loss: 0.522\n",
      "[4,  1501] loss: 0.538\n",
      "[4,  1801] loss: 0.539\n",
      "[4,  2101] loss: 0.529\n",
      "[4,  2401] loss: 0.541\n",
      "[4,  2701] loss: 0.532\n",
      "[4,  3001] loss: 0.521\n",
      "[4,  3301] loss: 0.527\n",
      "[4,  3601] loss: 0.533\n",
      "[4,  3901] loss: 0.547\n",
      "[4,  4201] loss: 0.531\n",
      "[4,  4501] loss: 0.530\n",
      "[4,  4801] loss: 0.533\n",
      "[4,  5101] loss: 0.533\n",
      "[4,  5401] loss: 0.535\n",
      "[4,  5701] loss: 0.536\n",
      "[4,  6001] loss: 0.529\n",
      "[4,  6301] loss: 0.537\n",
      "[4,  6601] loss: 0.525\n",
      "[4,  6901] loss: 0.538\n",
      "[4,  7201] loss: 0.534\n",
      "[4,  7501] loss: 0.538\n",
      "[4,  7801] loss: 0.533\n",
      "[4,  8101] loss: 0.518\n",
      "[4,  8401] loss: 0.545\n",
      "[4,  8701] loss: 0.527\n",
      "[4,  9001] loss: 0.536\n",
      "[4,  9301] loss: 0.534\n",
      "[4,  9601] loss: 0.536\n",
      "[4,  9901] loss: 0.533\n",
      "[4, 10201] loss: 0.541\n",
      "[4, 10501] loss: 0.526\n",
      "[4, 10801] loss: 0.549\n",
      "[4, 11101] loss: 0.532\n",
      "[4, 11401] loss: 0.544\n",
      "[4, 11701] loss: 0.529\n",
      "[4, 12001] loss: 0.540\n",
      "[4, 12301] loss: 0.536\n"
     ]
    },
    {
     "name": "stderr",
     "output_type": "stream",
     "text": [
      " 40%|█████████████████▌                          | 4/10 [04:16<06:23, 63.92s/it]"
     ]
    },
    {
     "name": "stdout",
     "output_type": "stream",
     "text": [
      "[5,     1] loss: 0.002\n",
      "[5,   301] loss: 0.523\n",
      "[5,   601] loss: 0.510\n",
      "[5,   901] loss: 0.535\n",
      "[5,  1201] loss: 0.520\n",
      "[5,  1501] loss: 0.536\n",
      "[5,  1801] loss: 0.533\n",
      "[5,  2101] loss: 0.527\n",
      "[5,  2401] loss: 0.534\n",
      "[5,  2701] loss: 0.532\n",
      "[5,  3001] loss: 0.527\n",
      "[5,  3301] loss: 0.526\n",
      "[5,  3601] loss: 0.524\n",
      "[5,  3901] loss: 0.531\n",
      "[5,  4201] loss: 0.515\n",
      "[5,  4501] loss: 0.514\n",
      "[5,  4801] loss: 0.529\n",
      "[5,  5101] loss: 0.537\n",
      "[5,  5401] loss: 0.533\n",
      "[5,  5701] loss: 0.537\n",
      "[5,  6001] loss: 0.525\n",
      "[5,  6301] loss: 0.520\n",
      "[5,  6601] loss: 0.549\n",
      "[5,  6901] loss: 0.528\n",
      "[5,  7201] loss: 0.510\n",
      "[5,  7501] loss: 0.529\n",
      "[5,  7801] loss: 0.534\n",
      "[5,  8101] loss: 0.531\n",
      "[5,  8401] loss: 0.519\n",
      "[5,  8701] loss: 0.523\n",
      "[5,  9001] loss: 0.534\n",
      "[5,  9301] loss: 0.536\n",
      "[5,  9601] loss: 0.530\n",
      "[5,  9901] loss: 0.531\n",
      "[5, 10201] loss: 0.531\n",
      "[5, 10501] loss: 0.550\n",
      "[5, 10801] loss: 0.536\n",
      "[5, 11101] loss: 0.526\n",
      "[5, 11401] loss: 0.517\n",
      "[5, 11701] loss: 0.530\n",
      "[5, 12001] loss: 0.536\n",
      "[5, 12301] loss: 0.535\n"
     ]
    },
    {
     "name": "stderr",
     "output_type": "stream",
     "text": [
      " 50%|██████████████████████                      | 5/10 [05:17<05:15, 63.01s/it]"
     ]
    },
    {
     "name": "stdout",
     "output_type": "stream",
     "text": [
      "[6,     1] loss: 0.002\n",
      "[6,   301] loss: 0.522\n",
      "[6,   601] loss: 0.515\n",
      "[6,   901] loss: 0.516\n",
      "[6,  1201] loss: 0.522\n",
      "[6,  1501] loss: 0.519\n",
      "[6,  1801] loss: 0.513\n",
      "[6,  2101] loss: 0.524\n",
      "[6,  2401] loss: 0.516\n",
      "[6,  2701] loss: 0.506\n",
      "[6,  3001] loss: 0.520\n",
      "[6,  3301] loss: 0.529\n",
      "[6,  3601] loss: 0.521\n",
      "[6,  3901] loss: 0.524\n",
      "[6,  4201] loss: 0.530\n",
      "[6,  4501] loss: 0.520\n",
      "[6,  4801] loss: 0.523\n",
      "[6,  5101] loss: 0.520\n",
      "[6,  5401] loss: 0.537\n",
      "[6,  5701] loss: 0.528\n",
      "[6,  6001] loss: 0.522\n",
      "[6,  6301] loss: 0.535\n",
      "[6,  6601] loss: 0.522\n",
      "[6,  6901] loss: 0.516\n",
      "[6,  7201] loss: 0.538\n",
      "[6,  7501] loss: 0.533\n",
      "[6,  7801] loss: 0.527\n",
      "[6,  8101] loss: 0.521\n",
      "[6,  8401] loss: 0.532\n",
      "[6,  8701] loss: 0.538\n",
      "[6,  9001] loss: 0.532\n",
      "[6,  9301] loss: 0.531\n",
      "[6,  9601] loss: 0.531\n",
      "[6,  9901] loss: 0.528\n",
      "[6, 10201] loss: 0.541\n",
      "[6, 10501] loss: 0.525\n",
      "[6, 10801] loss: 0.525\n",
      "[6, 11101] loss: 0.512\n",
      "[6, 11401] loss: 0.529\n",
      "[6, 11701] loss: 0.536\n",
      "[6, 12001] loss: 0.536\n",
      "[6, 12301] loss: 0.534\n"
     ]
    },
    {
     "name": "stderr",
     "output_type": "stream",
     "text": [
      " 60%|██████████████████████████▍                 | 6/10 [06:19<04:10, 62.69s/it]"
     ]
    },
    {
     "name": "stdout",
     "output_type": "stream",
     "text": [
      "[7,     1] loss: 0.002\n",
      "[7,   301] loss: 0.515\n",
      "[7,   601] loss: 0.509\n",
      "[7,   901] loss: 0.506\n",
      "[7,  1201] loss: 0.524\n",
      "[7,  1501] loss: 0.519\n",
      "[7,  1801] loss: 0.498\n",
      "[7,  2101] loss: 0.522\n",
      "[7,  2401] loss: 0.514\n",
      "[7,  2701] loss: 0.522\n",
      "[7,  3001] loss: 0.523\n",
      "[7,  3301] loss: 0.535\n",
      "[7,  3601] loss: 0.522\n",
      "[7,  3901] loss: 0.532\n",
      "[7,  4201] loss: 0.520\n",
      "[7,  4501] loss: 0.530\n",
      "[7,  4801] loss: 0.528\n",
      "[7,  5101] loss: 0.509\n",
      "[7,  5401] loss: 0.527\n",
      "[7,  5701] loss: 0.527\n",
      "[7,  6001] loss: 0.533\n",
      "[7,  6301] loss: 0.512\n",
      "[7,  6601] loss: 0.520\n",
      "[7,  6901] loss: 0.530\n",
      "[7,  7201] loss: 0.496\n",
      "[7,  7501] loss: 0.514\n",
      "[7,  7801] loss: 0.539\n",
      "[7,  8101] loss: 0.526\n",
      "[7,  8401] loss: 0.528\n",
      "[7,  8701] loss: 0.526\n",
      "[7,  9001] loss: 0.538\n",
      "[7,  9301] loss: 0.526\n",
      "[7,  9601] loss: 0.518\n",
      "[7,  9901] loss: 0.513\n",
      "[7, 10201] loss: 0.537\n",
      "[7, 10501] loss: 0.524\n",
      "[7, 10801] loss: 0.534\n",
      "[7, 11101] loss: 0.525\n",
      "[7, 11401] loss: 0.525\n",
      "[7, 11701] loss: 0.525\n",
      "[7, 12001] loss: 0.532\n",
      "[7, 12301] loss: 0.529\n"
     ]
    },
    {
     "name": "stderr",
     "output_type": "stream",
     "text": [
      " 70%|██████████████████████████████▊             | 7/10 [07:23<03:08, 62.86s/it]"
     ]
    },
    {
     "name": "stdout",
     "output_type": "stream",
     "text": [
      "[8,     1] loss: 0.001\n",
      "[8,   301] loss: 0.526\n",
      "[8,   601] loss: 0.505\n",
      "[8,   901] loss: 0.518\n",
      "[8,  1201] loss: 0.519\n",
      "[8,  1501] loss: 0.507\n",
      "[8,  1801] loss: 0.506\n",
      "[8,  2101] loss: 0.502\n",
      "[8,  2401] loss: 0.517\n",
      "[8,  2701] loss: 0.515\n",
      "[8,  3001] loss: 0.519\n",
      "[8,  3301] loss: 0.516\n",
      "[8,  3601] loss: 0.515\n",
      "[8,  3901] loss: 0.509\n",
      "[8,  4201] loss: 0.524\n",
      "[8,  4501] loss: 0.517\n",
      "[8,  4801] loss: 0.526\n",
      "[8,  5101] loss: 0.504\n",
      "[8,  5401] loss: 0.511\n",
      "[8,  5701] loss: 0.528\n",
      "[8,  6001] loss: 0.534\n",
      "[8,  6301] loss: 0.521\n",
      "[8,  6601] loss: 0.516\n",
      "[8,  6901] loss: 0.529\n",
      "[8,  7201] loss: 0.512\n",
      "[8,  7501] loss: 0.520\n",
      "[8,  7801] loss: 0.514\n",
      "[8,  8101] loss: 0.511\n",
      "[8,  8401] loss: 0.530\n",
      "[8,  8701] loss: 0.538\n",
      "[8,  9001] loss: 0.522\n",
      "[8,  9301] loss: 0.524\n",
      "[8,  9601] loss: 0.523\n",
      "[8,  9901] loss: 0.520\n",
      "[8, 10201] loss: 0.536\n",
      "[8, 10501] loss: 0.517\n",
      "[8, 10801] loss: 0.527\n",
      "[8, 11101] loss: 0.530\n",
      "[8, 11401] loss: 0.525\n",
      "[8, 11701] loss: 0.520\n",
      "[8, 12001] loss: 0.535\n",
      "[8, 12301] loss: 0.523\n"
     ]
    },
    {
     "name": "stderr",
     "output_type": "stream",
     "text": [
      " 80%|███████████████████████████████████▏        | 8/10 [08:25<02:05, 62.61s/it]"
     ]
    },
    {
     "name": "stdout",
     "output_type": "stream",
     "text": [
      "[9,     1] loss: 0.001\n",
      "[9,   301] loss: 0.509\n",
      "[9,   601] loss: 0.520\n",
      "[9,   901] loss: 0.501\n",
      "[9,  1201] loss: 0.509\n",
      "[9,  1501] loss: 0.511\n",
      "[9,  1801] loss: 0.514\n",
      "[9,  2101] loss: 0.530\n",
      "[9,  2401] loss: 0.515\n",
      "[9,  2701] loss: 0.526\n",
      "[9,  3001] loss: 0.520\n",
      "[9,  3301] loss: 0.508\n",
      "[9,  3601] loss: 0.517\n",
      "[9,  3901] loss: 0.519\n",
      "[9,  4201] loss: 0.511\n",
      "[9,  4501] loss: 0.528\n",
      "[9,  4801] loss: 0.521\n",
      "[9,  5101] loss: 0.513\n",
      "[9,  5401] loss: 0.525\n",
      "[9,  5701] loss: 0.524\n",
      "[9,  6001] loss: 0.511\n",
      "[9,  6301] loss: 0.521\n",
      "[9,  6601] loss: 0.502\n",
      "[9,  6901] loss: 0.519\n",
      "[9,  7201] loss: 0.527\n",
      "[9,  7501] loss: 0.516\n",
      "[9,  7801] loss: 0.529\n",
      "[9,  8101] loss: 0.504\n",
      "[9,  8401] loss: 0.532\n",
      "[9,  8701] loss: 0.531\n",
      "[9,  9001] loss: 0.529\n",
      "[9,  9301] loss: 0.521\n",
      "[9,  9601] loss: 0.509\n",
      "[9,  9901] loss: 0.518\n",
      "[9, 10201] loss: 0.523\n",
      "[9, 10501] loss: 0.522\n",
      "[9, 10801] loss: 0.525\n",
      "[9, 11101] loss: 0.522\n",
      "[9, 11401] loss: 0.519\n",
      "[9, 11701] loss: 0.519\n",
      "[9, 12001] loss: 0.508\n",
      "[9, 12301] loss: 0.527\n"
     ]
    },
    {
     "name": "stderr",
     "output_type": "stream",
     "text": [
      " 90%|███████████████████████████████████████▌    | 9/10 [09:27<01:02, 62.41s/it]"
     ]
    },
    {
     "name": "stdout",
     "output_type": "stream",
     "text": [
      "[10,     1] loss: 0.002\n",
      "[10,   301] loss: 0.494\n",
      "[10,   601] loss: 0.516\n",
      "[10,   901] loss: 0.506\n",
      "[10,  1201] loss: 0.511\n",
      "[10,  1501] loss: 0.504\n",
      "[10,  1801] loss: 0.515\n",
      "[10,  2101] loss: 0.517\n",
      "[10,  2401] loss: 0.507\n",
      "[10,  2701] loss: 0.520\n",
      "[10,  3001] loss: 0.499\n",
      "[10,  3301] loss: 0.516\n",
      "[10,  3601] loss: 0.532\n",
      "[10,  3901] loss: 0.517\n",
      "[10,  4201] loss: 0.516\n",
      "[10,  4501] loss: 0.516\n",
      "[10,  4801] loss: 0.527\n",
      "[10,  5101] loss: 0.505\n",
      "[10,  5401] loss: 0.507\n",
      "[10,  5701] loss: 0.515\n",
      "[10,  6001] loss: 0.530\n",
      "[10,  6301] loss: 0.534\n",
      "[10,  6601] loss: 0.520\n",
      "[10,  6901] loss: 0.514\n",
      "[10,  7201] loss: 0.526\n",
      "[10,  7501] loss: 0.525\n",
      "[10,  7801] loss: 0.508\n",
      "[10,  8101] loss: 0.505\n",
      "[10,  8401] loss: 0.515\n",
      "[10,  8701] loss: 0.517\n",
      "[10,  9001] loss: 0.515\n",
      "[10,  9301] loss: 0.519\n",
      "[10,  9601] loss: 0.528\n",
      "[10,  9901] loss: 0.515\n",
      "[10, 10201] loss: 0.524\n",
      "[10, 10501] loss: 0.523\n",
      "[10, 10801] loss: 0.524\n",
      "[10, 11101] loss: 0.518\n",
      "[10, 11401] loss: 0.522\n",
      "[10, 11701] loss: 0.522\n",
      "[10, 12001] loss: 0.515\n",
      "[10, 12301] loss: 0.531\n"
     ]
    },
    {
     "name": "stderr",
     "output_type": "stream",
     "text": [
      "100%|███████████████████████████████████████████| 10/10 [10:28<00:00, 62.88s/it]"
     ]
    },
    {
     "name": "stdout",
     "output_type": "stream",
     "text": [
      "Training is finished!\n"
     ]
    },
    {
     "name": "stderr",
     "output_type": "stream",
     "text": [
      "\n"
     ]
    }
   ],
   "source": [
    "for epoch in tqdm(range(10)):  \n",
    "    running_loss = 0.0 \n",
    "    for i, data in enumerate(train_loader, 0):\n",
    "        inputs, labels = data[0], data[1]\n",
    "\n",
    "        # обнуляем градиент\n",
    "        optimizer.zero_grad()\n",
    "\n",
    "        outputs = net(inputs)\n",
    "        loss = criterion(outputs, labels)\n",
    "        loss.backward()\n",
    "        optimizer.step()\n",
    "\n",
    "        # выводим статистику о процессе обучения\n",
    "        running_loss += loss.item()\n",
    "        if i % 300 == 0:    # печатаем каждые 300 mini-batches\n",
    "            print('[%d, %5d] loss: %.3f' %\n",
    "                  (epoch + 1, i + 1, running_loss / 2000))\n",
    "            running_loss = 0.0\n",
    "\n",
    "print('Training is finished!')"
   ]
  }
 ],
 "metadata": {
  "kernelspec": {
   "display_name": "Python 3 (ipykernel)",
   "language": "python",
   "name": "python3"
  },
  "language_info": {
   "codemirror_mode": {
    "name": "ipython",
    "version": 3
   },
   "file_extension": ".py",
   "mimetype": "text/x-python",
   "name": "python",
   "nbconvert_exporter": "python",
   "pygments_lexer": "ipython3",
   "version": "3.10.8"
  }
 },
 "nbformat": 4,
 "nbformat_minor": 4
}
