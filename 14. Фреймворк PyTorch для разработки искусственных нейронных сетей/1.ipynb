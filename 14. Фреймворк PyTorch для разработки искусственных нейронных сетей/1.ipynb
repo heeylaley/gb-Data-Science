{
 "cells": [
  {
   "cell_type": "code",
   "execution_count": 13,
   "metadata": {},
   "outputs": [],
   "source": [
    "# !pip install torch"
   ]
  },
  {
   "cell_type": "code",
   "execution_count": 2,
   "metadata": {},
   "outputs": [],
   "source": [
    "import torch\n",
    "import numpy as np\n",
    "from torch import nn \n",
    "from torch import optim\n",
    "from torch.autograd import Variable"
   ]
  },
  {
   "cell_type": "markdown",
   "metadata": {},
   "source": [
    "### 1. Создайте случайный FloatTensor размера 3x4x5"
   ]
  },
  {
   "cell_type": "code",
   "execution_count": 3,
   "metadata": {},
   "outputs": [
    {
     "name": "stdout",
     "output_type": "stream",
     "text": [
      "tensor([[[0.8151, 0.0883, 0.9598, 0.1683, 0.0057],\n",
      "         [0.0274, 0.3708, 0.0053, 0.1274, 0.6964],\n",
      "         [0.7701, 0.6428, 0.9882, 0.8370, 0.2867],\n",
      "         [0.2583, 0.8428, 0.5036, 0.5987, 0.0813]],\n",
      "\n",
      "        [[0.9695, 0.8700, 0.5847, 0.3763, 0.0278],\n",
      "         [0.1129, 0.8766, 0.0744, 0.5483, 0.8536],\n",
      "         [0.6704, 0.2531, 0.6006, 0.1597, 0.4755],\n",
      "         [0.9792, 0.7058, 0.0780, 0.5466, 0.1098]],\n",
      "\n",
      "        [[0.5312, 0.8138, 0.4628, 0.3121, 0.5414],\n",
      "         [0.5110, 0.5741, 0.5086, 0.2900, 0.5583],\n",
      "         [0.1084, 0.8334, 0.7223, 0.3371, 0.2065],\n",
      "         [0.5398, 0.5572, 0.4821, 0.8209, 0.0140]]])\n"
     ]
    }
   ],
   "source": [
    "a = torch.rand(3, 4, 5)\n",
    "print(a)"
   ]
  },
  {
   "cell_type": "markdown",
   "metadata": {},
   "source": [
    "### 2. Выведите его форму (shape)"
   ]
  },
  {
   "cell_type": "code",
   "execution_count": 4,
   "metadata": {},
   "outputs": [
    {
     "name": "stdout",
     "output_type": "stream",
     "text": [
      "torch.Size([3, 4, 5])\n"
     ]
    }
   ],
   "source": [
    "print(a.shape)"
   ]
  },
  {
   "cell_type": "markdown",
   "metadata": {},
   "source": [
    "### 3. Приведите его к форме 6 X 10"
   ]
  },
  {
   "cell_type": "code",
   "execution_count": 6,
   "metadata": {},
   "outputs": [
    {
     "name": "stdout",
     "output_type": "stream",
     "text": [
      "torch.Size([6, 10])\n"
     ]
    }
   ],
   "source": [
    "b = a.reshape(6, 10)\n",
    "print(b.shape)"
   ]
  },
  {
   "cell_type": "markdown",
   "metadata": {},
   "source": [
    "### 4. Умножьте его на вектор [1, 4, 2, 2, 1] поэлементно"
   ]
  },
  {
   "cell_type": "code",
   "execution_count": 7,
   "metadata": {},
   "outputs": [
    {
     "name": "stdout",
     "output_type": "stream",
     "text": [
      "tensor([[[0.8151, 0.3532, 1.9196, 0.3367, 0.0057],\n",
      "         [0.0274, 1.4834, 0.0105, 0.2547, 0.6964],\n",
      "         [0.7701, 2.5714, 1.9763, 1.6741, 0.2867],\n",
      "         [0.2583, 3.3714, 1.0073, 1.1974, 0.0813]],\n",
      "\n",
      "        [[0.9695, 3.4801, 1.1694, 0.7526, 0.0278],\n",
      "         [0.1129, 3.5063, 0.1489, 1.0967, 0.8536],\n",
      "         [0.6704, 1.0123, 1.2011, 0.3194, 0.4755],\n",
      "         [0.9792, 2.8233, 0.1560, 1.0931, 0.1098]],\n",
      "\n",
      "        [[0.5312, 3.2551, 0.9255, 0.6241, 0.5414],\n",
      "         [0.5110, 2.2964, 1.0172, 0.5800, 0.5583],\n",
      "         [0.1084, 3.3335, 1.4446, 0.6741, 0.2065],\n",
      "         [0.5398, 2.2286, 0.9642, 1.6419, 0.0140]]])\n"
     ]
    }
   ],
   "source": [
    "a_new = a * torch.tensor([1, 4, 2, 2, 1])\n",
    "print(a_new)"
   ]
  },
  {
   "cell_type": "markdown",
   "metadata": {},
   "source": [
    "### 5. Умножьте тензор матрично на себя, чтобы результат был размерности 6x6"
   ]
  },
  {
   "cell_type": "code",
   "execution_count": 8,
   "metadata": {},
   "outputs": [
    {
     "name": "stdout",
     "output_type": "stream",
     "text": [
      "tensor([[6.6432e-01, 7.7965e-03, 9.2121e-01, 2.8333e-02, 3.2722e-05, 7.4875e-04],\n",
      "        [5.9307e-01, 4.1325e-01, 9.7646e-01, 7.0065e-01, 8.2196e-02, 6.6718e-02],\n",
      "        [9.3995e-01, 7.5696e-01, 3.4189e-01, 1.4158e-01, 7.7425e-04, 1.2751e-02],\n",
      "        [4.4938e-01, 6.4043e-02, 3.6066e-01, 2.5501e-02, 2.2610e-01, 9.5886e-01],\n",
      "        [2.8222e-01, 6.6222e-01, 2.1416e-01, 9.7381e-02, 2.9313e-01, 2.6116e-01],\n",
      "        [1.1761e-02, 6.9452e-01, 5.2174e-01, 1.1360e-01, 4.2648e-02, 2.9141e-01]])\n",
      "torch.Size([6, 6])\n"
     ]
    }
   ],
   "source": [
    "b_new = b[:, :6] * (b[:, :6])\n",
    "print(b_new)\n",
    "print(b_new.shape)"
   ]
  },
  {
   "cell_type": "markdown",
   "metadata": {},
   "source": [
    "### 6. Посчитайте производную функции y = x**3 + z - 75t в точке (1, 0.5, 2)"
   ]
  },
  {
   "cell_type": "code",
   "execution_count": 9,
   "metadata": {},
   "outputs": [
    {
     "name": "stdout",
     "output_type": "stream",
     "text": [
      "None\n",
      "tensor([ -73.0000,  -36.8750, -140.0000], grad_fn=<SubBackward0>)\n",
      "tensor([ -71.0000,  -36.6250, -124.0000])\n"
     ]
    }
   ],
   "source": [
    "v = torch.tensor([1, 0.5, 2], requires_grad=True)\n",
    "print(v.grad)\n",
    "z = v ** 3 + v - 75 * v\n",
    "print(z)\n",
    "z.backward(v)\n",
    "print(v.grad)"
   ]
  },
  {
   "cell_type": "markdown",
   "metadata": {},
   "source": [
    "### 7. Создайте единичный тензор размера 5x6"
   ]
  },
  {
   "cell_type": "code",
   "execution_count": 10,
   "metadata": {},
   "outputs": [
    {
     "name": "stdout",
     "output_type": "stream",
     "text": [
      "tensor([[1., 1., 1., 1., 1., 1.],\n",
      "        [1., 1., 1., 1., 1., 1.],\n",
      "        [1., 1., 1., 1., 1., 1.],\n",
      "        [1., 1., 1., 1., 1., 1.],\n",
      "        [1., 1., 1., 1., 1., 1.]])\n"
     ]
    }
   ],
   "source": [
    "t_one = torch.ones(5,6)\n",
    "print(t_one)"
   ]
  },
  {
   "cell_type": "markdown",
   "metadata": {},
   "source": [
    "### 8. Переведите его в формат numpy"
   ]
  },
  {
   "cell_type": "code",
   "execution_count": 11,
   "metadata": {},
   "outputs": [
    {
     "name": "stdout",
     "output_type": "stream",
     "text": [
      "[[1. 1. 1. 1. 1. 1.]\n",
      " [1. 1. 1. 1. 1. 1.]\n",
      " [1. 1. 1. 1. 1. 1.]\n",
      " [1. 1. 1. 1. 1. 1.]\n",
      " [1. 1. 1. 1. 1. 1.]]\n"
     ]
    }
   ],
   "source": [
    "t_np = t_one.numpy()\n",
    "print(t_np)"
   ]
  },
  {
   "cell_type": "markdown",
   "metadata": {},
   "source": [
    "### 9. Давайте теперь пооптимизируем: возьмите функцию y = x**w1 - 2 * x**2 + 5"
   ]
  },
  {
   "cell_type": "code",
   "execution_count": 12,
   "metadata": {},
   "outputs": [
    {
     "name": "stdout",
     "output_type": "stream",
     "text": [
      "loss:\t 1.0\n",
      "\n",
      "w1:\t tensor([2.0003, 2.0003])\n"
     ]
    }
   ],
   "source": [
    "w1 = Variable(torch.Tensor([2,2]), requires_grad = True)\n",
    "x = Variable(torch.Tensor([2,2]), requires_grad = False)\n",
    "y = Variable(torch.Tensor([2,2]), requires_grad = False)\n",
    "\n",
    "optimizer = torch.optim.SGD([w1], lr=0.0001)\n",
    "\n",
    "criterion = torch.nn.MSELoss()\n",
    "\n",
    "pred = x**w1 - 2 * x**2 + 5\n",
    "\n",
    "optimizer.zero_grad()\n",
    "loss = criterion(pred, y)\n",
    "loss.backward()\n",
    "optimizer.step()  \n",
    "print(f'loss:\\t {loss.item()}\\n')\n",
    "print(f'w1:\\t {w1.data}')"
   ]
  }
 ],
 "metadata": {
  "kernelspec": {
   "display_name": "Python 3 (ipykernel)",
   "language": "python",
   "name": "python3"
  },
  "language_info": {
   "codemirror_mode": {
    "name": "ipython",
    "version": 3
   },
   "file_extension": ".py",
   "mimetype": "text/x-python",
   "name": "python",
   "nbconvert_exporter": "python",
   "pygments_lexer": "ipython3",
   "version": "3.10.8"
  }
 },
 "nbformat": 4,
 "nbformat_minor": 4
}
