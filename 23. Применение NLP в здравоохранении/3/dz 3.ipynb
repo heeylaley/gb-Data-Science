{
 "cells": [
  {
   "cell_type": "code",
   "execution_count": 1,
   "id": "046ad2af",
   "metadata": {},
   "outputs": [],
   "source": [
    "import pandas as pd\n",
    "from nltk.corpus import stopwords\n",
    "import re\n",
    "\n",
    "import warnings\n",
    "warnings.filterwarnings('ignore')"
   ]
  },
  {
   "cell_type": "markdown",
   "id": "fe9ff2ca",
   "metadata": {},
   "source": [
    "Модели для обработки текста: <br>\n",
    "@ChatGPT_BotNews, @chatgpt_tgm_bot <br>\n",
    "ChatGPT 4.0"
   ]
  },
  {
   "cell_type": "markdown",
   "id": "f79db16e",
   "metadata": {},
   "source": [
    "Запрос в ChatGPT: <br>\n",
    "Find adverse drug reaction (or reactions) code(s) in the sentences below. Make the result as such (id number + code, for example: 1 C0684249)"
   ]
  },
  {
   "cell_type": "markdown",
   "id": "fb9fb250",
   "metadata": {},
   "source": [
    "Выход: <br>\n",
    "... <br>\n",
    "262: C0005801  \n",
    "263: C0030146  \n",
    "264: C0013404, C0020538, C0238853, C0236442  \n",
    "265: C0011991, C0018017, C0025385, C0159077, C0024256, C0040634 <br>\n",
    "..."
   ]
  },
  {
   "cell_type": "code",
   "execution_count": 2,
   "id": "b24ec669",
   "metadata": {},
   "outputs": [],
   "source": [
    "# сохраняем выход в ADR_GPT.txt"
   ]
  },
  {
   "cell_type": "code",
   "execution_count": 3,
   "id": "a47822ab",
   "metadata": {
    "scrolled": true
   },
   "outputs": [
    {
     "data": {
      "text/html": [
       "<div>\n",
       "<style scoped>\n",
       "    .dataframe tbody tr th:only-of-type {\n",
       "        vertical-align: middle;\n",
       "    }\n",
       "\n",
       "    .dataframe tbody tr th {\n",
       "        vertical-align: top;\n",
       "    }\n",
       "\n",
       "    .dataframe thead th {\n",
       "        text-align: right;\n",
       "    }\n",
       "</style>\n",
       "<table border=\"1\" class=\"dataframe\">\n",
       "  <thead>\n",
       "    <tr style=\"text-align: right;\">\n",
       "      <th></th>\n",
       "      <th>id</th>\n",
       "      <th>code</th>\n",
       "    </tr>\n",
       "  </thead>\n",
       "  <tbody>\n",
       "    <tr>\n",
       "      <th>0</th>\n",
       "      <td>1</td>\n",
       "      <td>C0018402, C0025266, C0024530</td>\n",
       "    </tr>\n",
       "    <tr>\n",
       "      <th>1</th>\n",
       "      <td>2</td>\n",
       "      <td>C0036690</td>\n",
       "    </tr>\n",
       "    <tr>\n",
       "      <th>2</th>\n",
       "      <td>3</td>\n",
       "      <td>C0036690</td>\n",
       "    </tr>\n",
       "    <tr>\n",
       "      <th>3</th>\n",
       "      <td>4</td>\n",
       "      <td>C2931847</td>\n",
       "    </tr>\n",
       "    <tr>\n",
       "      <th>4</th>\n",
       "      <td>5</td>\n",
       "      <td>C2931847</td>\n",
       "    </tr>\n",
       "  </tbody>\n",
       "</table>\n",
       "</div>"
      ],
      "text/plain": [
       "   id                           code\n",
       "0   1   C0018402, C0025266, C0024530\n",
       "1   2                       C0036690\n",
       "2   3                       C0036690\n",
       "3   4                       C2931847\n",
       "4   5                       C2931847"
      ]
     },
     "execution_count": 3,
     "metadata": {},
     "output_type": "execute_result"
    }
   ],
   "source": [
    "adr = pd.read_csv('ADR_GPT.txt', sep=':')\n",
    "adr.head()"
   ]
  },
  {
   "cell_type": "code",
   "execution_count": 4,
   "id": "64686663",
   "metadata": {},
   "outputs": [],
   "source": [
    "# индекс и айди разные потому что в \"побочные_эффекты\" были пропущены некоторые айдишники жалоб (например: 1182, 1184)"
   ]
  },
  {
   "cell_type": "code",
   "execution_count": 5,
   "id": "a83dbbdd",
   "metadata": {},
   "outputs": [],
   "source": [
    "def outliers(a):\n",
    "    if a[0] == 'C':   # ищем все то что не начинается с С____ (то есть не содержит ADR коды)\n",
    "        return 'NaN'  # но это будет не пандасовский флоат НаН а просто строковый формат\n",
    "    else:\n",
    "        return a\n",
    "    \n",
    "adr['code'] = adr['code'].apply(lambda x: outliers(x))"
   ]
  },
  {
   "cell_type": "code",
   "execution_count": 6,
   "id": "64c0dd80",
   "metadata": {},
   "outputs": [
    {
     "data": {
      "text/html": [
       "<div>\n",
       "<style scoped>\n",
       "    .dataframe tbody tr th:only-of-type {\n",
       "        vertical-align: middle;\n",
       "    }\n",
       "\n",
       "    .dataframe tbody tr th {\n",
       "        vertical-align: top;\n",
       "    }\n",
       "\n",
       "    .dataframe thead th {\n",
       "        text-align: right;\n",
       "    }\n",
       "</style>\n",
       "<table border=\"1\" class=\"dataframe\">\n",
       "  <thead>\n",
       "    <tr style=\"text-align: right;\">\n",
       "      <th></th>\n",
       "      <th>id</th>\n",
       "      <th>code</th>\n",
       "    </tr>\n",
       "  </thead>\n",
       "  <tbody>\n",
       "    <tr>\n",
       "      <th>600</th>\n",
       "      <td>565</td>\n",
       "      <td>NaN</td>\n",
       "    </tr>\n",
       "    <tr>\n",
       "      <th>601</th>\n",
       "      <td>566</td>\n",
       "      <td>NaN</td>\n",
       "    </tr>\n",
       "    <tr>\n",
       "      <th>602</th>\n",
       "      <td>567</td>\n",
       "      <td>NaN</td>\n",
       "    </tr>\n",
       "    <tr>\n",
       "      <th>603</th>\n",
       "      <td>568</td>\n",
       "      <td>NaN</td>\n",
       "    </tr>\n",
       "    <tr>\n",
       "      <th>649</th>\n",
       "      <td>614</td>\n",
       "      <td>NaN</td>\n",
       "    </tr>\n",
       "    <tr>\n",
       "      <th>650</th>\n",
       "      <td>615</td>\n",
       "      <td>NaN</td>\n",
       "    </tr>\n",
       "    <tr>\n",
       "      <th>651</th>\n",
       "      <td>616</td>\n",
       "      <td>NaN</td>\n",
       "    </tr>\n",
       "    <tr>\n",
       "      <th>652</th>\n",
       "      <td>617</td>\n",
       "      <td>NaN</td>\n",
       "    </tr>\n",
       "    <tr>\n",
       "      <th>653</th>\n",
       "      <td>618</td>\n",
       "      <td>NaN</td>\n",
       "    </tr>\n",
       "    <tr>\n",
       "      <th>654</th>\n",
       "      <td>619</td>\n",
       "      <td>NaN</td>\n",
       "    </tr>\n",
       "    <tr>\n",
       "      <th>655</th>\n",
       "      <td>620</td>\n",
       "      <td>NaN</td>\n",
       "    </tr>\n",
       "    <tr>\n",
       "      <th>858</th>\n",
       "      <td>823</td>\n",
       "      <td>NaN</td>\n",
       "    </tr>\n",
       "    <tr>\n",
       "      <th>912</th>\n",
       "      <td>877</td>\n",
       "      <td>NaN</td>\n",
       "    </tr>\n",
       "    <tr>\n",
       "      <th>1034</th>\n",
       "      <td>999</td>\n",
       "      <td>NaN</td>\n",
       "    </tr>\n",
       "  </tbody>\n",
       "</table>\n",
       "</div>"
      ],
      "text/plain": [
       "       id code\n",
       "600   565  NaN\n",
       "601   566  NaN\n",
       "602   567  NaN\n",
       "603   568  NaN\n",
       "649   614  NaN\n",
       "650   615  NaN\n",
       "651   616  NaN\n",
       "652   617  NaN\n",
       "653   618  NaN\n",
       "654   619  NaN\n",
       "655   620  NaN\n",
       "858   823  NaN\n",
       "912   877  NaN\n",
       "1034  999  NaN"
      ]
     },
     "execution_count": 6,
     "metadata": {},
     "output_type": "execute_result"
    }
   ],
   "source": [
    "adr.loc[adr['code'] == 'NaN']"
   ]
  },
  {
   "cell_type": "markdown",
   "id": "09952c06",
   "metadata": {},
   "source": [
    "Ну в принципе 14 пропусков это норм, тем более что это могло произойти из-за залипания gpt (слишком много токенов и пропускает логическую последовательность). Проверим это"
   ]
  },
  {
   "cell_type": "code",
   "execution_count": 7,
   "id": "641fbe18",
   "metadata": {},
   "outputs": [
    {
     "data": {
      "text/html": [
       "<div>\n",
       "<style scoped>\n",
       "    .dataframe tbody tr th:only-of-type {\n",
       "        vertical-align: middle;\n",
       "    }\n",
       "\n",
       "    .dataframe tbody tr th {\n",
       "        vertical-align: top;\n",
       "    }\n",
       "\n",
       "    .dataframe thead th {\n",
       "        text-align: right;\n",
       "    }\n",
       "</style>\n",
       "<table border=\"1\" class=\"dataframe\">\n",
       "  <thead>\n",
       "    <tr style=\"text-align: right;\">\n",
       "      <th></th>\n",
       "      <th>id</th>\n",
       "      <th>Text</th>\n",
       "    </tr>\n",
       "  </thead>\n",
       "  <tbody>\n",
       "    <tr>\n",
       "      <th>0</th>\n",
       "      <td>1</td>\n",
       "      <td>extreme weight gain, short-term memory loss, h...</td>\n",
       "    </tr>\n",
       "    <tr>\n",
       "      <th>1</th>\n",
       "      <td>2</td>\n",
       "      <td>COMPLETELY DESTROYED SEXUALLY FUNCTIONING .</td>\n",
       "    </tr>\n",
       "    <tr>\n",
       "      <th>2</th>\n",
       "      <td>3</td>\n",
       "      <td>Just TWO tablets of Lexapro 10mg completely de...</td>\n",
       "    </tr>\n",
       "    <tr>\n",
       "      <th>3</th>\n",
       "      <td>4</td>\n",
       "      <td>It's called PSSD: post-SSRI sexual dysfunction.</td>\n",
       "    </tr>\n",
       "    <tr>\n",
       "      <th>4</th>\n",
       "      <td>5</td>\n",
       "      <td>And there is a chance that it will give you PS...</td>\n",
       "    </tr>\n",
       "  </tbody>\n",
       "</table>\n",
       "</div>"
      ],
      "text/plain": [
       "   id                                               Text\n",
       "0   1  extreme weight gain, short-term memory loss, h...\n",
       "1   2        COMPLETELY DESTROYED SEXUALLY FUNCTIONING .\n",
       "2   3  Just TWO tablets of Lexapro 10mg completely de...\n",
       "3   4    It's called PSSD: post-SSRI sexual dysfunction.\n",
       "4   5  And there is a chance that it will give you PS..."
      ]
     },
     "execution_count": 7,
     "metadata": {},
     "output_type": "execute_result"
    }
   ],
   "source": [
    "complaints = pd.read_csv('побочные_эффекты.txt', delimiter='\\t')\n",
    "complaints.head()"
   ]
  },
  {
   "cell_type": "code",
   "execution_count": 8,
   "id": "742d336e",
   "metadata": {},
   "outputs": [
    {
     "data": {
      "text/html": [
       "<div>\n",
       "<style scoped>\n",
       "    .dataframe tbody tr th:only-of-type {\n",
       "        vertical-align: middle;\n",
       "    }\n",
       "\n",
       "    .dataframe tbody tr th {\n",
       "        vertical-align: top;\n",
       "    }\n",
       "\n",
       "    .dataframe thead th {\n",
       "        text-align: right;\n",
       "    }\n",
       "</style>\n",
       "<table border=\"1\" class=\"dataframe\">\n",
       "  <thead>\n",
       "    <tr style=\"text-align: right;\">\n",
       "      <th></th>\n",
       "      <th>id</th>\n",
       "      <th>Text</th>\n",
       "      <th>code</th>\n",
       "    </tr>\n",
       "  </thead>\n",
       "  <tbody>\n",
       "    <tr>\n",
       "      <th>0</th>\n",
       "      <td>1</td>\n",
       "      <td>extreme weight gain, short-term memory loss, hair loss.</td>\n",
       "      <td>C0018402, C0025266, C0024530</td>\n",
       "    </tr>\n",
       "    <tr>\n",
       "      <th>1</th>\n",
       "      <td>2</td>\n",
       "      <td>COMPLETELY DESTROYED SEXUALLY FUNCTIONING .</td>\n",
       "      <td>C0036690</td>\n",
       "    </tr>\n",
       "    <tr>\n",
       "      <th>2</th>\n",
       "      <td>3</td>\n",
       "      <td>Just TWO tablets of Lexapro 10mg completely destroyed my sexual functioning, probably for life.</td>\n",
       "      <td>C0036690</td>\n",
       "    </tr>\n",
       "    <tr>\n",
       "      <th>3</th>\n",
       "      <td>4</td>\n",
       "      <td>It's called PSSD: post-SSRI sexual dysfunction.</td>\n",
       "      <td>C2931847</td>\n",
       "    </tr>\n",
       "    <tr>\n",
       "      <th>4</th>\n",
       "      <td>5</td>\n",
       "      <td>And there is a chance that it will give you PSSD, which as the name suggests persists even after you stop taking the drug, Just google 'PSSD' and you'll see what I mean, So please: NEVER take this drug, not even one tablet.</td>\n",
       "      <td>C2931847</td>\n",
       "    </tr>\n",
       "  </tbody>\n",
       "</table>\n",
       "</div>"
      ],
      "text/plain": [
       "   id  \\\n",
       "0   1   \n",
       "1   2   \n",
       "2   3   \n",
       "3   4   \n",
       "4   5   \n",
       "\n",
       "                                                                                                                                                                                                                              Text  \\\n",
       "0                                                                                                                                                                          extreme weight gain, short-term memory loss, hair loss.   \n",
       "1                                                                                                                                                                                      COMPLETELY DESTROYED SEXUALLY FUNCTIONING .   \n",
       "2                                                                                                                                  Just TWO tablets of Lexapro 10mg completely destroyed my sexual functioning, probably for life.   \n",
       "3                                                                                                                                                                                  It's called PSSD: post-SSRI sexual dysfunction.   \n",
       "4  And there is a chance that it will give you PSSD, which as the name suggests persists even after you stop taking the drug, Just google 'PSSD' and you'll see what I mean, So please: NEVER take this drug, not even one tablet.   \n",
       "\n",
       "                            code  \n",
       "0   C0018402, C0025266, C0024530  \n",
       "1                       C0036690  \n",
       "2                       C0036690  \n",
       "3                       C2931847  \n",
       "4                       C2931847  "
      ]
     },
     "execution_count": 8,
     "metadata": {},
     "output_type": "execute_result"
    }
   ],
   "source": [
    "pd.set_option('display.max_colwidth', None)\n",
    "\n",
    "adr_full = pd.merge(complaints, adr, on=['id'])\n",
    "adr_full.head()"
   ]
  },
  {
   "cell_type": "code",
   "execution_count": 9,
   "id": "a3ef85cd",
   "metadata": {},
   "outputs": [
    {
     "data": {
      "text/html": [
       "<div>\n",
       "<style scoped>\n",
       "    .dataframe tbody tr th:only-of-type {\n",
       "        vertical-align: middle;\n",
       "    }\n",
       "\n",
       "    .dataframe tbody tr th {\n",
       "        vertical-align: top;\n",
       "    }\n",
       "\n",
       "    .dataframe thead th {\n",
       "        text-align: right;\n",
       "    }\n",
       "</style>\n",
       "<table border=\"1\" class=\"dataframe\">\n",
       "  <thead>\n",
       "    <tr style=\"text-align: right;\">\n",
       "      <th></th>\n",
       "      <th>id</th>\n",
       "      <th>Text</th>\n",
       "      <th>code</th>\n",
       "    </tr>\n",
       "  </thead>\n",
       "  <tbody>\n",
       "    <tr>\n",
       "      <th>0</th>\n",
       "      <td>1</td>\n",
       "      <td>extreme weight gain short-term memory loss hair loss.</td>\n",
       "      <td>C0018402, C0025266, C0024530</td>\n",
       "    </tr>\n",
       "    <tr>\n",
       "      <th>1</th>\n",
       "      <td>2</td>\n",
       "      <td>completely destroyed sexually functioning .</td>\n",
       "      <td>C0036690</td>\n",
       "    </tr>\n",
       "    <tr>\n",
       "      <th>2</th>\n",
       "      <td>3</td>\n",
       "      <td>just two tablets of lexapro 10mg completely destroyed my sexual functioning probably for life.</td>\n",
       "      <td>C0036690</td>\n",
       "    </tr>\n",
       "    <tr>\n",
       "      <th>3</th>\n",
       "      <td>4</td>\n",
       "      <td>it's called pssd: post-ssri sexual dysfunction.</td>\n",
       "      <td>C2931847</td>\n",
       "    </tr>\n",
       "    <tr>\n",
       "      <th>4</th>\n",
       "      <td>5</td>\n",
       "      <td>and there is a chance that it will give you pssd which as the name suggests persists even after you stop taking the drug just google 'pssd' and you'll see what i mean so please: never take this drug not even one tablet.</td>\n",
       "      <td>C2931847</td>\n",
       "    </tr>\n",
       "  </tbody>\n",
       "</table>\n",
       "</div>"
      ],
      "text/plain": [
       "   id  \\\n",
       "0   1   \n",
       "1   2   \n",
       "2   3   \n",
       "3   4   \n",
       "4   5   \n",
       "\n",
       "                                                                                                                                                                                                                          Text  \\\n",
       "0                                                                                                                                                                        extreme weight gain short-term memory loss hair loss.   \n",
       "1                                                                                                                                                                                  completely destroyed sexually functioning .   \n",
       "2                                                                                                                               just two tablets of lexapro 10mg completely destroyed my sexual functioning probably for life.   \n",
       "3                                                                                                                                                                              it's called pssd: post-ssri sexual dysfunction.   \n",
       "4  and there is a chance that it will give you pssd which as the name suggests persists even after you stop taking the drug just google 'pssd' and you'll see what i mean so please: never take this drug not even one tablet.   \n",
       "\n",
       "                            code  \n",
       "0   C0018402, C0025266, C0024530  \n",
       "1                       C0036690  \n",
       "2                       C0036690  \n",
       "3                       C2931847  \n",
       "4                       C2931847  "
      ]
     },
     "execution_count": 9,
     "metadata": {},
     "output_type": "execute_result"
    }
   ],
   "source": [
    "# это я подгоняла текст для поиску по словарю но потом вспомнила что гпт сам предобрабатывает так что это можно и не делать\n",
    "adr_full['Text'] = adr_full['Text'].str.lower()\n",
    "adr_full['Text'] = adr_full['Text'].str.split(',')\n",
    "adr_full['Text'] = adr_full['Text'].apply(lambda x: [item for item in x if str(item) not in stopwords.words('english')])\n",
    "adr_full['Text'] = adr_full['Text'].apply(lambda x: ''.join(x))\n",
    "\n",
    "adr_full.head()"
   ]
  },
  {
   "cell_type": "code",
   "execution_count": 11,
   "id": "4eae24af",
   "metadata": {},
   "outputs": [
    {
     "data": {
      "text/html": [
       "<div>\n",
       "<style scoped>\n",
       "    .dataframe tbody tr th:only-of-type {\n",
       "        vertical-align: middle;\n",
       "    }\n",
       "\n",
       "    .dataframe tbody tr th {\n",
       "        vertical-align: top;\n",
       "    }\n",
       "\n",
       "    .dataframe thead th {\n",
       "        text-align: right;\n",
       "    }\n",
       "</style>\n",
       "<table border=\"1\" class=\"dataframe\">\n",
       "  <thead>\n",
       "    <tr style=\"text-align: right;\">\n",
       "      <th></th>\n",
       "      <th>id</th>\n",
       "      <th>Text</th>\n",
       "    </tr>\n",
       "  </thead>\n",
       "  <tbody>\n",
       "    <tr>\n",
       "      <th>600</th>\n",
       "      <td>565</td>\n",
       "      <td>i can deal with all these side effects but would love to get rid of the fatigue.</td>\n",
       "    </tr>\n",
       "    <tr>\n",
       "      <th>601</th>\n",
       "      <td>566</td>\n",
       "      <td>sometimes i think the vivid dreaming keeps you from getting quality sleep however this medicine has been great-i had anxiety from divorce new home new job and dealing with a severely depressed ex-spouse (who is now on effexor).</td>\n",
       "    </tr>\n",
       "    <tr>\n",
       "      <th>602</th>\n",
       "      <td>567</td>\n",
       "      <td>some typical antidepressant side effects but nothing too serious.</td>\n",
       "    </tr>\n",
       "    <tr>\n",
       "      <th>603</th>\n",
       "      <td>568</td>\n",
       "      <td>i had a few emotional side effects but they went away very quickly.</td>\n",
       "    </tr>\n",
       "    <tr>\n",
       "      <th>649</th>\n",
       "      <td>614</td>\n",
       "      <td>stayed away from my grandkids cuz i didn't want them to find me dead.</td>\n",
       "    </tr>\n",
       "    <tr>\n",
       "      <th>650</th>\n",
       "      <td>615</td>\n",
       "      <td>lost all of my energy.</td>\n",
       "    </tr>\n",
       "    <tr>\n",
       "      <th>651</th>\n",
       "      <td>616</td>\n",
       "      <td>developed shortness of breath fibromyalgia type pain arthritis pain.</td>\n",
       "    </tr>\n",
       "    <tr>\n",
       "      <th>652</th>\n",
       "      <td>617</td>\n",
       "      <td>could barely walk.</td>\n",
       "    </tr>\n",
       "    <tr>\n",
       "      <th>653</th>\n",
       "      <td>618</td>\n",
       "      <td>i have been off work for 8 months.</td>\n",
       "    </tr>\n",
       "    <tr>\n",
       "      <th>654</th>\n",
       "      <td>619</td>\n",
       "      <td>i lost my job and will have to find another one.</td>\n",
       "    </tr>\n",
       "    <tr>\n",
       "      <th>655</th>\n",
       "      <td>620</td>\n",
       "      <td>not sleeping for over 48 hours heart palpitations ending up in hospital in a manic state.</td>\n",
       "    </tr>\n",
       "    <tr>\n",
       "      <th>858</th>\n",
       "      <td>823</td>\n",
       "      <td>weight loss in the 3 weeks i took it.</td>\n",
       "    </tr>\n",
       "    <tr>\n",
       "      <th>912</th>\n",
       "      <td>877</td>\n",
       "      <td>allot of weight gain.</td>\n",
       "    </tr>\n",
       "    <tr>\n",
       "      <th>1034</th>\n",
       "      <td>999</td>\n",
       "      <td>i do have occassional mild headaches but nothing worth stoping it over that's why there's motrin.</td>\n",
       "    </tr>\n",
       "  </tbody>\n",
       "</table>\n",
       "</div>"
      ],
      "text/plain": [
       "       id  \\\n",
       "600   565   \n",
       "601   566   \n",
       "602   567   \n",
       "603   568   \n",
       "649   614   \n",
       "650   615   \n",
       "651   616   \n",
       "652   617   \n",
       "653   618   \n",
       "654   619   \n",
       "655   620   \n",
       "858   823   \n",
       "912   877   \n",
       "1034  999   \n",
       "\n",
       "                                                                                                                                                                                                                                     Text  \n",
       "600                                                                                                                                                      i can deal with all these side effects but would love to get rid of the fatigue.  \n",
       "601   sometimes i think the vivid dreaming keeps you from getting quality sleep however this medicine has been great-i had anxiety from divorce new home new job and dealing with a severely depressed ex-spouse (who is now on effexor).  \n",
       "602                                                                                                                                                                     some typical antidepressant side effects but nothing too serious.  \n",
       "603                                                                                                                                                                   i had a few emotional side effects but they went away very quickly.  \n",
       "649                                                                                                                                                                 stayed away from my grandkids cuz i didn't want them to find me dead.  \n",
       "650                                                                                                                                                                                                                lost all of my energy.  \n",
       "651                                                                                                                                                                  developed shortness of breath fibromyalgia type pain arthritis pain.  \n",
       "652                                                                                                                                                                                                                    could barely walk.  \n",
       "653                                                                                                                                                                                                    i have been off work for 8 months.  \n",
       "654                                                                                                                                                                                      i lost my job and will have to find another one.  \n",
       "655                                                                                                                                             not sleeping for over 48 hours heart palpitations ending up in hospital in a manic state.  \n",
       "858                                                                                                                                                                                                 weight loss in the 3 weeks i took it.  \n",
       "912                                                                                                                                                                                                                 allot of weight gain.  \n",
       "1034                                                                                                                                    i do have occassional mild headaches but nothing worth stoping it over that's why there's motrin.  "
      ]
     },
     "execution_count": 11,
     "metadata": {},
     "output_type": "execute_result"
    }
   ],
   "source": [
    "adr_full.loc[adr_full['code'] == 'NaN', ['id', 'Text']]"
   ]
  },
  {
   "cell_type": "code",
   "execution_count": 12,
   "id": "958aa998",
   "metadata": {},
   "outputs": [
    {
     "data": {
      "text/plain": [
       "14"
      ]
     },
     "execution_count": 12,
     "metadata": {},
     "output_type": "execute_result"
    }
   ],
   "source": [
    "len(adr_full.loc[adr_full['code'] == 'NaN', ['id', 'Text']])"
   ]
  },
  {
   "cell_type": "markdown",
   "id": "823bfa5a",
   "metadata": {},
   "source": [
    "Ещё раз закинем в gpt"
   ]
  },
  {
   "cell_type": "markdown",
   "id": "31a2113a",
   "metadata": {},
   "source": [
    "Выход:<br><br>\n",
    "565: C0005688  \n",
    "566: C0005689  \n",
    "567: C0018792  \n",
    "568: C1963712  \n",
    "614: C0015967  \n",
    "615: C0747802  \n",
    "616: C0000737, C0015676, C0003862  \n",
    "617: C0340556  \n",
    "618: C0038431  \n",
    "619: C0041948, C0231269  \n",
    "620: C0018671, C0013390, C0013405, C0021051, C0156969  \n",
    "823: C0043096  \n",
    "877: C0340556  \n",
    "999: C0027497 <br><br>\n",
    "Да, gpt нашел коды, забиваем их в таблицу"
   ]
  },
  {
   "cell_type": "code",
   "execution_count": 13,
   "id": "fd2d6cb2",
   "metadata": {},
   "outputs": [
    {
     "data": {
      "text/plain": [
       "{'565': 'C0005688',\n",
       " '566': 'C0005689',\n",
       " '567': 'C0018792',\n",
       " '568': 'C1963712',\n",
       " '614': 'C0015967',\n",
       " '615': 'C0747802',\n",
       " '616': 'C0000737,C0015676,C0003862',\n",
       " '617': 'C0340556',\n",
       " '618': 'C0038431',\n",
       " '619': 'C0041948,C0231269',\n",
       " '620': 'C0018671,C0013390,C0013405,C0021051,C0156969',\n",
       " '823': 'C0043096',\n",
       " '877': 'C0340556',\n",
       " '999': 'C0027497'}"
      ]
     },
     "execution_count": 13,
     "metadata": {},
     "output_type": "execute_result"
    }
   ],
   "source": [
    "additional = {}\n",
    "with open('additional.txt','r') as inf:\n",
    "    for line in inf:\n",
    "        line = re.sub(' ', '', line)\n",
    "        code = re.sub('\\n', '', line.split(':')[1])\n",
    "        additional[line.split(':')[0]] = code\n",
    "\n",
    "additional"
   ]
  },
  {
   "cell_type": "code",
   "execution_count": 14,
   "id": "454b6e96",
   "metadata": {},
   "outputs": [],
   "source": [
    "for key in additional:\n",
    "    ind = adr_full.loc[adr_full['id'] == int(key)].index.tolist() # находим табличный индекс айдишнику\n",
    "    adr_full['code'][ind[0]] = additional[key]"
   ]
  },
  {
   "cell_type": "code",
   "execution_count": 15,
   "id": "c2d499c1",
   "metadata": {},
   "outputs": [
    {
     "data": {
      "text/html": [
       "<div>\n",
       "<style scoped>\n",
       "    .dataframe tbody tr th:only-of-type {\n",
       "        vertical-align: middle;\n",
       "    }\n",
       "\n",
       "    .dataframe tbody tr th {\n",
       "        vertical-align: top;\n",
       "    }\n",
       "\n",
       "    .dataframe thead th {\n",
       "        text-align: right;\n",
       "    }\n",
       "</style>\n",
       "<table border=\"1\" class=\"dataframe\">\n",
       "  <thead>\n",
       "    <tr style=\"text-align: right;\">\n",
       "      <th></th>\n",
       "      <th>id</th>\n",
       "      <th>Text</th>\n",
       "    </tr>\n",
       "  </thead>\n",
       "  <tbody>\n",
       "  </tbody>\n",
       "</table>\n",
       "</div>"
      ],
      "text/plain": [
       "Empty DataFrame\n",
       "Columns: [id, Text]\n",
       "Index: []"
      ]
     },
     "execution_count": 15,
     "metadata": {},
     "output_type": "execute_result"
    }
   ],
   "source": [
    "adr_full.loc[adr_full['code'] == 'NaN', ['id', 'Text']]"
   ]
  },
  {
   "cell_type": "markdown",
   "id": "7e244f7a",
   "metadata": {},
   "source": [
    "=> пропусков нет"
   ]
  },
  {
   "cell_type": "markdown",
   "id": "a3e1b2ee",
   "metadata": {},
   "source": [
    "## Вариант только с айди жалобы и кодами (формат str)"
   ]
  },
  {
   "cell_type": "markdown",
   "id": "a4d2ea6a",
   "metadata": {},
   "source": [
    "\"tychina_3.csv\""
   ]
  },
  {
   "cell_type": "code",
   "execution_count": 16,
   "id": "d8b7547a",
   "metadata": {},
   "outputs": [
    {
     "data": {
      "text/html": [
       "<div>\n",
       "<style scoped>\n",
       "    .dataframe tbody tr th:only-of-type {\n",
       "        vertical-align: middle;\n",
       "    }\n",
       "\n",
       "    .dataframe tbody tr th {\n",
       "        vertical-align: top;\n",
       "    }\n",
       "\n",
       "    .dataframe thead th {\n",
       "        text-align: right;\n",
       "    }\n",
       "</style>\n",
       "<table border=\"1\" class=\"dataframe\">\n",
       "  <thead>\n",
       "    <tr style=\"text-align: right;\">\n",
       "      <th></th>\n",
       "      <th>id</th>\n",
       "      <th>code</th>\n",
       "    </tr>\n",
       "  </thead>\n",
       "  <tbody>\n",
       "    <tr>\n",
       "      <th>0</th>\n",
       "      <td>1</td>\n",
       "      <td>C0018402, C0025266, C0024530</td>\n",
       "    </tr>\n",
       "    <tr>\n",
       "      <th>1</th>\n",
       "      <td>2</td>\n",
       "      <td>C0036690</td>\n",
       "    </tr>\n",
       "    <tr>\n",
       "      <th>2</th>\n",
       "      <td>3</td>\n",
       "      <td>C0036690</td>\n",
       "    </tr>\n",
       "    <tr>\n",
       "      <th>3</th>\n",
       "      <td>4</td>\n",
       "      <td>C2931847</td>\n",
       "    </tr>\n",
       "    <tr>\n",
       "      <th>4</th>\n",
       "      <td>5</td>\n",
       "      <td>C2931847</td>\n",
       "    </tr>\n",
       "  </tbody>\n",
       "</table>\n",
       "</div>"
      ],
      "text/plain": [
       "   id                           code\n",
       "0   1   C0018402, C0025266, C0024530\n",
       "1   2                       C0036690\n",
       "2   3                       C0036690\n",
       "3   4                       C2931847\n",
       "4   5                       C2931847"
      ]
     },
     "execution_count": 16,
     "metadata": {},
     "output_type": "execute_result"
    }
   ],
   "source": [
    "cols = ['id', 'code']\n",
    "adr_dz = adr_full[cols]\n",
    "adr_dz.head()"
   ]
  },
  {
   "cell_type": "code",
   "execution_count": 17,
   "id": "cd8d986a",
   "metadata": {},
   "outputs": [],
   "source": [
    "adr_dz.to_csv('tychina_3.csv')"
   ]
  },
  {
   "cell_type": "markdown",
   "id": "86426630",
   "metadata": {},
   "source": [
    "## Вариант как в домашнем задании"
   ]
  },
  {
   "cell_type": "markdown",
   "id": "3276c375",
   "metadata": {},
   "source": [
    "Оставляю оба варианта тк в моем решении был только 1 уровень (не 5), но под формат подгоню"
   ]
  },
  {
   "cell_type": "markdown",
   "id": "c013ca82",
   "metadata": {},
   "source": [
    "\"tychina_3_2.csv\""
   ]
  },
  {
   "cell_type": "code",
   "execution_count": 18,
   "id": "a02dc5d9",
   "metadata": {
    "scrolled": true
   },
   "outputs": [
    {
     "data": {
      "text/html": [
       "<div>\n",
       "<style scoped>\n",
       "    .dataframe tbody tr th:only-of-type {\n",
       "        vertical-align: middle;\n",
       "    }\n",
       "\n",
       "    .dataframe tbody tr th {\n",
       "        vertical-align: top;\n",
       "    }\n",
       "\n",
       "    .dataframe thead th {\n",
       "        text-align: right;\n",
       "    }\n",
       "</style>\n",
       "<table border=\"1\" class=\"dataframe\">\n",
       "  <thead>\n",
       "    <tr style=\"text-align: right;\">\n",
       "      <th></th>\n",
       "      <th>id</th>\n",
       "      <th>code</th>\n",
       "      <th>level_1</th>\n",
       "      <th>level_2</th>\n",
       "      <th>level_3</th>\n",
       "      <th>level_4</th>\n",
       "      <th>level_5</th>\n",
       "    </tr>\n",
       "  </thead>\n",
       "  <tbody>\n",
       "    <tr>\n",
       "      <th>0</th>\n",
       "      <td>1</td>\n",
       "      <td>C0018402, C0025266, C0024530</td>\n",
       "      <td>0</td>\n",
       "      <td>0</td>\n",
       "      <td>0</td>\n",
       "      <td>0</td>\n",
       "      <td>1</td>\n",
       "    </tr>\n",
       "    <tr>\n",
       "      <th>1</th>\n",
       "      <td>2</td>\n",
       "      <td>C0036690</td>\n",
       "      <td>0</td>\n",
       "      <td>0</td>\n",
       "      <td>0</td>\n",
       "      <td>0</td>\n",
       "      <td>1</td>\n",
       "    </tr>\n",
       "    <tr>\n",
       "      <th>2</th>\n",
       "      <td>3</td>\n",
       "      <td>C0036690</td>\n",
       "      <td>0</td>\n",
       "      <td>0</td>\n",
       "      <td>0</td>\n",
       "      <td>0</td>\n",
       "      <td>1</td>\n",
       "    </tr>\n",
       "    <tr>\n",
       "      <th>3</th>\n",
       "      <td>4</td>\n",
       "      <td>C2931847</td>\n",
       "      <td>0</td>\n",
       "      <td>0</td>\n",
       "      <td>0</td>\n",
       "      <td>0</td>\n",
       "      <td>1</td>\n",
       "    </tr>\n",
       "    <tr>\n",
       "      <th>4</th>\n",
       "      <td>5</td>\n",
       "      <td>C2931847</td>\n",
       "      <td>0</td>\n",
       "      <td>0</td>\n",
       "      <td>0</td>\n",
       "      <td>0</td>\n",
       "      <td>1</td>\n",
       "    </tr>\n",
       "  </tbody>\n",
       "</table>\n",
       "</div>"
      ],
      "text/plain": [
       "   id                           code  level_1  level_2  level_3  level_4  \\\n",
       "0   1   C0018402, C0025266, C0024530        0        0        0        0   \n",
       "1   2                       C0036690        0        0        0        0   \n",
       "2   3                       C0036690        0        0        0        0   \n",
       "3   4                       C2931847        0        0        0        0   \n",
       "4   5                       C2931847        0        0        0        0   \n",
       "\n",
       "   level_5  \n",
       "0        1  \n",
       "1        1  \n",
       "2        1  \n",
       "3        1  \n",
       "4        1  "
      ]
     },
     "execution_count": 18,
     "metadata": {},
     "output_type": "execute_result"
    }
   ],
   "source": [
    "for el in range(1, 5):\n",
    "    col_name = 'level_' + str(el)\n",
    "    adr_dz[col_name] = 0\n",
    "\n",
    "adr_dz['level_5'] = 1\n",
    "adr_dz.head()"
   ]
  },
  {
   "cell_type": "code",
   "execution_count": 19,
   "id": "2a1707a5",
   "metadata": {},
   "outputs": [],
   "source": [
    "adr_dz.to_csv('tychina_3_2.csv') # не убирала индексы!!"
   ]
  }
 ],
 "metadata": {
  "kernelspec": {
   "display_name": "Python 3 (ipykernel)",
   "language": "python",
   "name": "python3"
  },
  "language_info": {
   "codemirror_mode": {
    "name": "ipython",
    "version": 3
   },
   "file_extension": ".py",
   "mimetype": "text/x-python",
   "name": "python",
   "nbconvert_exporter": "python",
   "pygments_lexer": "ipython3",
   "version": "3.10.8"
  }
 },
 "nbformat": 4,
 "nbformat_minor": 5
}
