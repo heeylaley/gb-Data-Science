{
 "cells": [
  {
   "cell_type": "code",
   "execution_count": 1,
   "id": "046ad2af",
   "metadata": {},
   "outputs": [],
   "source": [
    "import pandas as pd\n",
    "import numpy as np\n",
    "from nltk.corpus import stopwords\n",
    "import re\n",
    "\n",
    "\n",
    "import warnings\n",
    "warnings.filterwarnings('ignore')"
   ]
  },
  {
   "cell_type": "markdown",
   "id": "099ac1d9",
   "metadata": {},
   "source": [
    "## Словарь"
   ]
  },
  {
   "cell_type": "code",
   "execution_count": 2,
   "id": "abe0f1b3",
   "metadata": {
    "scrolled": true
   },
   "outputs": [
    {
     "data": {
      "text/html": [
       "<div>\n",
       "<style scoped>\n",
       "    .dataframe tbody tr th:only-of-type {\n",
       "        vertical-align: middle;\n",
       "    }\n",
       "\n",
       "    .dataframe tbody tr th {\n",
       "        vertical-align: top;\n",
       "    }\n",
       "\n",
       "    .dataframe thead th {\n",
       "        text-align: right;\n",
       "    }\n",
       "</style>\n",
       "<table border=\"1\" class=\"dataframe\">\n",
       "  <thead>\n",
       "    <tr style=\"text-align: right;\">\n",
       "      <th></th>\n",
       "      <th>CUI</th>\n",
       "      <th>CONCEPT</th>\n",
       "      <th>SNOMED_CODE</th>\n",
       "    </tr>\n",
       "  </thead>\n",
       "  <tbody>\n",
       "    <tr>\n",
       "      <th>0</th>\n",
       "      <td>C0000765</td>\n",
       "      <td>Excessive body weight gain,Excessive weight gain</td>\n",
       "      <td>224994002</td>\n",
       "    </tr>\n",
       "    <tr>\n",
       "      <th>1</th>\n",
       "      <td>C0701811</td>\n",
       "      <td>Poor short-term memory,Poor short-term memory</td>\n",
       "      <td>247592009</td>\n",
       "    </tr>\n",
       "    <tr>\n",
       "      <th>2</th>\n",
       "      <td>C0002170</td>\n",
       "      <td>Alopecia,Loss of hair</td>\n",
       "      <td>278040002</td>\n",
       "    </tr>\n",
       "    <tr>\n",
       "      <th>3</th>\n",
       "      <td>C0549622</td>\n",
       "      <td>Sexual Dysfunction,Sexual disorder</td>\n",
       "      <td>231532002</td>\n",
       "    </tr>\n",
       "    <tr>\n",
       "      <th>4</th>\n",
       "      <td>C0027497</td>\n",
       "      <td>Nausea,Nausea</td>\n",
       "      <td>422587007</td>\n",
       "    </tr>\n",
       "  </tbody>\n",
       "</table>\n",
       "</div>"
      ],
      "text/plain": [
       "         CUI                                           CONCEPT SNOMED_CODE\n",
       "0  C0000765   Excessive body weight gain,Excessive weight gain   224994002\n",
       "1  C0701811      Poor short-term memory,Poor short-term memory   247592009\n",
       "2  C0002170                              Alopecia,Loss of hair   278040002\n",
       "3  C0549622                 Sexual Dysfunction,Sexual disorder   231532002\n",
       "4  C0027497                                      Nausea,Nausea   422587007"
      ]
     },
     "execution_count": 2,
     "metadata": {},
     "output_type": "execute_result"
    }
   ],
   "source": [
    "concept_df = pd.read_csv('концепты.tsv', sep='\\t')\n",
    "concept_df.head()"
   ]
  },
  {
   "cell_type": "code",
   "execution_count": 3,
   "id": "c3c6a11d",
   "metadata": {},
   "outputs": [
    {
     "data": {
      "text/plain": [
       "544"
      ]
     },
     "execution_count": 3,
     "metadata": {},
     "output_type": "execute_result"
    }
   ],
   "source": [
    "len(concept_df)"
   ]
  },
  {
   "cell_type": "code",
   "execution_count": 4,
   "id": "e41770a5",
   "metadata": {},
   "outputs": [
    {
     "data": {
      "text/html": [
       "<div>\n",
       "<style scoped>\n",
       "    .dataframe tbody tr th:only-of-type {\n",
       "        vertical-align: middle;\n",
       "    }\n",
       "\n",
       "    .dataframe tbody tr th {\n",
       "        vertical-align: top;\n",
       "    }\n",
       "\n",
       "    .dataframe thead th {\n",
       "        text-align: right;\n",
       "    }\n",
       "</style>\n",
       "<table border=\"1\" class=\"dataframe\">\n",
       "  <thead>\n",
       "    <tr style=\"text-align: right;\">\n",
       "      <th></th>\n",
       "      <th>CUI</th>\n",
       "      <th>CONCEPT</th>\n",
       "      <th>SNOMED_CODE</th>\n",
       "    </tr>\n",
       "  </thead>\n",
       "  <tbody>\n",
       "    <tr>\n",
       "      <th>0</th>\n",
       "      <td>[C0000765]</td>\n",
       "      <td>Excessive body weight gain,Excessive weight gain</td>\n",
       "      <td>224994002</td>\n",
       "    </tr>\n",
       "    <tr>\n",
       "      <th>1</th>\n",
       "      <td>[C0701811]</td>\n",
       "      <td>Poor short-term memory,Poor short-term memory</td>\n",
       "      <td>247592009</td>\n",
       "    </tr>\n",
       "    <tr>\n",
       "      <th>2</th>\n",
       "      <td>[C0002170]</td>\n",
       "      <td>Alopecia,Loss of hair</td>\n",
       "      <td>278040002</td>\n",
       "    </tr>\n",
       "    <tr>\n",
       "      <th>3</th>\n",
       "      <td>[C0549622]</td>\n",
       "      <td>Sexual Dysfunction,Sexual disorder</td>\n",
       "      <td>231532002</td>\n",
       "    </tr>\n",
       "    <tr>\n",
       "      <th>4</th>\n",
       "      <td>[C0027497]</td>\n",
       "      <td>Nausea,Nausea</td>\n",
       "      <td>422587007</td>\n",
       "    </tr>\n",
       "  </tbody>\n",
       "</table>\n",
       "</div>"
      ],
      "text/plain": [
       "          CUI                                           CONCEPT SNOMED_CODE\n",
       "0  [C0000765]  Excessive body weight gain,Excessive weight gain   224994002\n",
       "1  [C0701811]     Poor short-term memory,Poor short-term memory   247592009\n",
       "2  [C0002170]                             Alopecia,Loss of hair   278040002\n",
       "3  [C0549622]                Sexual Dysfunction,Sexual disorder   231532002\n",
       "4  [C0027497]                                     Nausea,Nausea   422587007"
      ]
     },
     "execution_count": 4,
     "metadata": {},
     "output_type": "execute_result"
    }
   ],
   "source": [
    "concept_df['CUI'] = concept_df['CUI'].apply(lambda x: re.findall(r'C[0-9]{7}', x))\n",
    "concept_df.head()"
   ]
  },
  {
   "cell_type": "code",
   "execution_count": 5,
   "id": "96562634",
   "metadata": {},
   "outputs": [
    {
     "data": {
      "text/html": [
       "<div>\n",
       "<style scoped>\n",
       "    .dataframe tbody tr th:only-of-type {\n",
       "        vertical-align: middle;\n",
       "    }\n",
       "\n",
       "    .dataframe tbody tr th {\n",
       "        vertical-align: top;\n",
       "    }\n",
       "\n",
       "    .dataframe thead th {\n",
       "        text-align: right;\n",
       "    }\n",
       "</style>\n",
       "<table border=\"1\" class=\"dataframe\">\n",
       "  <thead>\n",
       "    <tr style=\"text-align: right;\">\n",
       "      <th></th>\n",
       "      <th>CUI</th>\n",
       "      <th>CONCEPT</th>\n",
       "      <th>SNOMED_CODE</th>\n",
       "      <th>проверка</th>\n",
       "    </tr>\n",
       "  </thead>\n",
       "  <tbody>\n",
       "    <tr>\n",
       "      <th>0</th>\n",
       "      <td>C0000765</td>\n",
       "      <td>Excessive body weight gain,Excessive weight gain</td>\n",
       "      <td>224994002</td>\n",
       "      <td>yes</td>\n",
       "    </tr>\n",
       "    <tr>\n",
       "      <th>1</th>\n",
       "      <td>C0701811</td>\n",
       "      <td>Poor short-term memory,Poor short-term memory</td>\n",
       "      <td>247592009</td>\n",
       "      <td>yes</td>\n",
       "    </tr>\n",
       "    <tr>\n",
       "      <th>2</th>\n",
       "      <td>C0002170</td>\n",
       "      <td>Alopecia,Loss of hair</td>\n",
       "      <td>278040002</td>\n",
       "      <td>yes</td>\n",
       "    </tr>\n",
       "    <tr>\n",
       "      <th>3</th>\n",
       "      <td>C0549622</td>\n",
       "      <td>Sexual Dysfunction,Sexual disorder</td>\n",
       "      <td>231532002</td>\n",
       "      <td>yes</td>\n",
       "    </tr>\n",
       "    <tr>\n",
       "      <th>4</th>\n",
       "      <td>C0027497</td>\n",
       "      <td>Nausea,Nausea</td>\n",
       "      <td>422587007</td>\n",
       "      <td>yes</td>\n",
       "    </tr>\n",
       "  </tbody>\n",
       "</table>\n",
       "</div>"
      ],
      "text/plain": [
       "        CUI                                           CONCEPT SNOMED_CODE  \\\n",
       "0  C0000765  Excessive body weight gain,Excessive weight gain   224994002   \n",
       "1  C0701811     Poor short-term memory,Poor short-term memory   247592009   \n",
       "2  C0002170                             Alopecia,Loss of hair   278040002   \n",
       "3  C0549622                Sexual Dysfunction,Sexual disorder   231532002   \n",
       "4  C0027497                                     Nausea,Nausea   422587007   \n",
       "\n",
       "  проверка  \n",
       "0      yes  \n",
       "1      yes  \n",
       "2      yes  \n",
       "3      yes  \n",
       "4      yes  "
      ]
     },
     "execution_count": 5,
     "metadata": {},
     "output_type": "execute_result"
    }
   ],
   "source": [
    "concept_df['CUI'] = concept_df['CUI'].apply(lambda x: ''.join(x))\n",
    "concept_df['проверка'] = concept_df['CUI'].apply(lambda x: 'yes' if len(x) == 8 else 'no')\n",
    "\n",
    "concept_df.head()"
   ]
  },
  {
   "cell_type": "code",
   "execution_count": 6,
   "id": "60158bde",
   "metadata": {},
   "outputs": [
    {
     "data": {
      "text/plain": [
       "yes    544\n",
       "Name: проверка, dtype: int64"
      ]
     },
     "execution_count": 6,
     "metadata": {},
     "output_type": "execute_result"
    }
   ],
   "source": [
    "concept_df['проверка'].value_counts()"
   ]
  },
  {
   "cell_type": "markdown",
   "id": "d1179832",
   "metadata": {},
   "source": [
    "там до этого был один \"no\" из-за кода который начинался с маленькой \"с\""
   ]
  },
  {
   "cell_type": "code",
   "execution_count": 7,
   "id": "cface4be",
   "metadata": {},
   "outputs": [
    {
     "data": {
      "text/plain": [
       "C0231403    3\n",
       "C0557386    2\n",
       "C0392171    2\n",
       "C0233408    2\n",
       "C0151786    2\n",
       "           ..\n",
       "C0003862    1\n",
       "C0427195    1\n",
       "C0426584    1\n",
       "C0232461    1\n",
       "C0587054    1\n",
       "Name: CUI, Length: 529, dtype: int64"
      ]
     },
     "execution_count": 7,
     "metadata": {},
     "output_type": "execute_result"
    }
   ],
   "source": [
    "concept_df['CUI'].value_counts()"
   ]
  },
  {
   "cell_type": "markdown",
   "id": "254badd2",
   "metadata": {},
   "source": [
    "529 vs 544 <br> есть повторы кодов"
   ]
  },
  {
   "cell_type": "code",
   "execution_count": 8,
   "id": "77f19957",
   "metadata": {},
   "outputs": [
    {
     "data": {
      "text/plain": [
       "529"
      ]
     },
     "execution_count": 8,
     "metadata": {},
     "output_type": "execute_result"
    }
   ],
   "source": [
    "concept_df = concept_df[['CUI', 'CONCEPT']].drop_duplicates(subset=['CUI'])\n",
    "len(concept_df)"
   ]
  },
  {
   "cell_type": "code",
   "execution_count": 9,
   "id": "4ae7098d",
   "metadata": {},
   "outputs": [],
   "source": [
    "concept_df = concept_df.reset_index(drop=True)"
   ]
  },
  {
   "cell_type": "code",
   "execution_count": 10,
   "id": "f67f5d7c",
   "metadata": {},
   "outputs": [
    {
     "data": {
      "text/html": [
       "<div>\n",
       "<style scoped>\n",
       "    .dataframe tbody tr th:only-of-type {\n",
       "        vertical-align: middle;\n",
       "    }\n",
       "\n",
       "    .dataframe tbody tr th {\n",
       "        vertical-align: top;\n",
       "    }\n",
       "\n",
       "    .dataframe thead th {\n",
       "        text-align: right;\n",
       "    }\n",
       "</style>\n",
       "<table border=\"1\" class=\"dataframe\">\n",
       "  <thead>\n",
       "    <tr style=\"text-align: right;\">\n",
       "      <th></th>\n",
       "      <th>CUI</th>\n",
       "      <th>CONCEPT</th>\n",
       "    </tr>\n",
       "  </thead>\n",
       "  <tbody>\n",
       "    <tr>\n",
       "      <th>0</th>\n",
       "      <td>C0000765</td>\n",
       "      <td>excessive gain body weight</td>\n",
       "    </tr>\n",
       "    <tr>\n",
       "      <th>1</th>\n",
       "      <td>C0701811</td>\n",
       "      <td>poor short-term memory</td>\n",
       "    </tr>\n",
       "    <tr>\n",
       "      <th>2</th>\n",
       "      <td>C0002170</td>\n",
       "      <td>loss alopecia hair</td>\n",
       "    </tr>\n",
       "    <tr>\n",
       "      <th>3</th>\n",
       "      <td>C0549622</td>\n",
       "      <td>sexual disorder dysfunction</td>\n",
       "    </tr>\n",
       "    <tr>\n",
       "      <th>4</th>\n",
       "      <td>C0027497</td>\n",
       "      <td>nausea</td>\n",
       "    </tr>\n",
       "  </tbody>\n",
       "</table>\n",
       "</div>"
      ],
      "text/plain": [
       "        CUI                      CONCEPT\n",
       "0  C0000765   excessive gain body weight\n",
       "1  C0701811       poor short-term memory\n",
       "2  C0002170           loss alopecia hair\n",
       "3  C0549622  sexual disorder dysfunction\n",
       "4  C0027497                       nausea"
      ]
     },
     "execution_count": 10,
     "metadata": {},
     "output_type": "execute_result"
    }
   ],
   "source": [
    "def tune_for_row(name_df, name_row):\n",
    "    name_df[name_row] = name_df[name_row].str.lower()\n",
    "    name_df[name_row] = name_df[name_row].apply(lambda x: re.sub(',', ' ', x))\n",
    "    name_df[name_row] = name_df[name_row].str.split()\n",
    "    name_df[name_row] = name_df[name_row].apply(lambda x: [item for item in x if str(item) not in stopwords.words('english')])\n",
    "    name_df[name_row] = name_df[name_row].apply(lambda x: set(x))\n",
    "    name_df[name_row] = name_df[name_row].apply(lambda x: ' '.join(x))\n",
    "\n",
    "tune_for_row(concept_df, 'CONCEPT')\n",
    "\n",
    "concept_df.head()"
   ]
  },
  {
   "cell_type": "markdown",
   "id": "8cf69376",
   "metadata": {},
   "source": [
    "## BERT"
   ]
  },
  {
   "cell_type": "markdown",
   "id": "4ed7928e",
   "metadata": {},
   "source": [
    "*Принцип: извлечение эмбеддингов по косинусовому сходству*"
   ]
  },
  {
   "cell_type": "code",
   "execution_count": 11,
   "id": "58b0d9cb",
   "metadata": {},
   "outputs": [
    {
     "name": "stderr",
     "output_type": "stream",
     "text": [
      "Some weights of the model checkpoint at microsoft/BiomedNLP-PubMedBERT-base-uncased-abstract-fulltext were not used when initializing BertModel: ['cls.predictions.transform.dense.weight', 'cls.predictions.decoder.weight', 'cls.predictions.transform.dense.bias', 'cls.predictions.decoder.bias', 'cls.predictions.bias', 'cls.seq_relationship.weight', 'cls.predictions.transform.LayerNorm.weight', 'cls.seq_relationship.bias', 'cls.predictions.transform.LayerNorm.bias']\n",
      "- This IS expected if you are initializing BertModel from the checkpoint of a model trained on another task or with another architecture (e.g. initializing a BertForSequenceClassification model from a BertForPreTraining model).\n",
      "- This IS NOT expected if you are initializing BertModel from the checkpoint of a model that you expect to be exactly identical (initializing a BertForSequenceClassification model from a BertForSequenceClassification model).\n"
     ]
    }
   ],
   "source": [
    "from transformers import BertTokenizer, BertModel\n",
    "import torch\n",
    "\n",
    "# Загрузка pubmed BERT модели\n",
    "tokenizer = BertTokenizer.from_pretrained('microsoft/BiomedNLP-PubMedBERT-base-uncased-abstract-fulltext')\n",
    "model_B = BertModel.from_pretrained('microsoft/BiomedNLP-PubMedBERT-base-uncased-abstract-fulltext')"
   ]
  },
  {
   "cell_type": "code",
   "execution_count": 12,
   "id": "bf9dc064",
   "metadata": {},
   "outputs": [],
   "source": [
    "def get_bert_embedding(text):\n",
    "    \n",
    "    inputs = tokenizer(text, return_tensors=\"pt\", max_length=128, truncation=True)\n",
    "    \n",
    "    with torch.no_grad():\n",
    "        outputs = model_B(**inputs)\n",
    "        embedding = outputs.last_hidden_state.mean(dim=1)\n",
    "        \n",
    "    return embedding\n",
    "\n",
    "# Apply the get_bert_embedding function to each concept text in concept_df\n",
    "concept_df['Embedding'] = concept_df['CONCEPT'].apply(get_bert_embedding)"
   ]
  },
  {
   "cell_type": "code",
   "execution_count": 13,
   "id": "377aba55",
   "metadata": {},
   "outputs": [],
   "source": [
    "def extract_top_codes(text, model, tokenizer, concept_df):\n",
    "    # Encode the input text using the BERT tokenizer and model\n",
    "    encoded_text = get_bert_embedding(text)\n",
    "    \n",
    "    similarity_scores = []\n",
    "    \n",
    "    for idx, row in concept_df.iterrows():\n",
    "        code_embedding = row['Embedding']\n",
    "        \n",
    "        # Resize code_embedding to match the dimension of encoded_text\n",
    "        code_embedding_resized = code_embedding.view(-1)\n",
    "        \n",
    "        # Calculate the similarity score using BERT embeddings\n",
    "        similarity_score = np.dot(encoded_text, code_embedding_resized) / (np.linalg.norm(encoded_text) * np.linalg.norm(code_embedding_resized))\n",
    "        similarity_scores.append((row['CUI'], similarity_score.item()))\n",
    "    \n",
    "    sorted_scores = sorted(similarity_scores, key=lambda x: x[1], reverse=True)\n",
    "    top_codes = [code for code, score in sorted_scores[:3]]\n",
    "\n",
    "    return top_codes"
   ]
  },
  {
   "cell_type": "code",
   "execution_count": 14,
   "id": "50793c8a",
   "metadata": {},
   "outputs": [],
   "source": [
    "with open('побочные_эффекты.txt', 'r') as file:\n",
    "    complaints = file.readlines()    \n",
    "    \n",
    "del complaints[0]"
   ]
  },
  {
   "cell_type": "code",
   "execution_count": 15,
   "id": "2ae03626",
   "metadata": {
    "scrolled": true
   },
   "outputs": [
    {
     "name": "stdout",
     "output_type": "stream",
     "text": [
      "CPU times: total: 17min 39s\n",
      "Wall time: 4min 19s\n"
     ]
    }
   ],
   "source": [
    "%%time \n",
    "# Создание dataframe для хранения id жалобы и всех кодов в строчке текста\n",
    "result_df = pd.DataFrame(columns=['id', 'Code'])\n",
    "\n",
    "\n",
    "for complaint in complaints:\n",
    "    \n",
    "    pre_id, pre_text = complaint.split('\\t')\n",
    "    \n",
    "    complaint_id = int(pre_id)\n",
    "    \n",
    "    complaint_text = re.sub('\\n', '', pre_text)\n",
    "    complaint_text = complaint_text.lower()\n",
    "    complaint_text = complaint_text.split()\n",
    "    complaint_text = [item for item in complaint_text if item not in stopwords.words('english')]\n",
    "    complaint_text = ' '.join(complaint_text)\n",
    "\n",
    "    \n",
    "#     if complaint_id % 200 == 0:\n",
    "#         print(complaint_id)\n",
    "        \n",
    "    codes = extract_top_codes(complaint_text, model_B, tokenizer, concept_df)\n",
    "    \n",
    "    result_df = result_df.append({'id': complaint_id, 'Code': ','.join(codes)}, ignore_index=True)"
   ]
  },
  {
   "cell_type": "code",
   "execution_count": 16,
   "id": "7138ad40",
   "metadata": {
    "scrolled": false
   },
   "outputs": [
    {
     "data": {
      "text/html": [
       "<div>\n",
       "<style scoped>\n",
       "    .dataframe tbody tr th:only-of-type {\n",
       "        vertical-align: middle;\n",
       "    }\n",
       "\n",
       "    .dataframe tbody tr th {\n",
       "        vertical-align: top;\n",
       "    }\n",
       "\n",
       "    .dataframe thead th {\n",
       "        text-align: right;\n",
       "    }\n",
       "</style>\n",
       "<table border=\"1\" class=\"dataframe\">\n",
       "  <thead>\n",
       "    <tr style=\"text-align: right;\">\n",
       "      <th></th>\n",
       "      <th>id</th>\n",
       "      <th>Code</th>\n",
       "    </tr>\n",
       "  </thead>\n",
       "  <tbody>\n",
       "    <tr>\n",
       "      <th>0</th>\n",
       "      <td>1</td>\n",
       "      <td>C0011124,C0042023,C0013378</td>\n",
       "    </tr>\n",
       "    <tr>\n",
       "      <th>1</th>\n",
       "      <td>2</td>\n",
       "      <td>C2981158,C0011124,C0021177</td>\n",
       "    </tr>\n",
       "    <tr>\n",
       "      <th>2</th>\n",
       "      <td>3</td>\n",
       "      <td>C0011124,C0042023,C0021177</td>\n",
       "    </tr>\n",
       "    <tr>\n",
       "      <th>3</th>\n",
       "      <td>4</td>\n",
       "      <td>C0036902,C0011124,C0013378</td>\n",
       "    </tr>\n",
       "    <tr>\n",
       "      <th>4</th>\n",
       "      <td>5</td>\n",
       "      <td>C0235283,C0812387,C0563717</td>\n",
       "    </tr>\n",
       "    <tr>\n",
       "      <th>5</th>\n",
       "      <td>6</td>\n",
       "      <td>C0011124,C0042023,C0424528</td>\n",
       "    </tr>\n",
       "    <tr>\n",
       "      <th>6</th>\n",
       "      <td>7</td>\n",
       "      <td>C0016382,C0011124,C0423636</td>\n",
       "    </tr>\n",
       "    <tr>\n",
       "      <th>7</th>\n",
       "      <td>8</td>\n",
       "      <td>C0577477,C0011124,C0042023</td>\n",
       "    </tr>\n",
       "    <tr>\n",
       "      <th>8</th>\n",
       "      <td>9</td>\n",
       "      <td>C0554978,C0563158,C0424537</td>\n",
       "    </tr>\n",
       "    <tr>\n",
       "      <th>9</th>\n",
       "      <td>10</td>\n",
       "      <td>C0577477,C0425082,C0582140</td>\n",
       "    </tr>\n",
       "    <tr>\n",
       "      <th>10</th>\n",
       "      <td>11</td>\n",
       "      <td>C0235283,C0016382,C0235239</td>\n",
       "    </tr>\n",
       "    <tr>\n",
       "      <th>11</th>\n",
       "      <td>12</td>\n",
       "      <td>C0016382,C0812387,C0424537</td>\n",
       "    </tr>\n",
       "    <tr>\n",
       "      <th>12</th>\n",
       "      <td>13</td>\n",
       "      <td>C0812387,C0424573,C0581879</td>\n",
       "    </tr>\n",
       "    <tr>\n",
       "      <th>13</th>\n",
       "      <td>14</td>\n",
       "      <td>C0016382,C0812387,C0235239</td>\n",
       "    </tr>\n",
       "    <tr>\n",
       "      <th>14</th>\n",
       "      <td>15</td>\n",
       "      <td>C0812387,C0582051,C0016382</td>\n",
       "    </tr>\n",
       "    <tr>\n",
       "      <th>15</th>\n",
       "      <td>16</td>\n",
       "      <td>C0011124,C0042023,C2981158</td>\n",
       "    </tr>\n",
       "    <tr>\n",
       "      <th>16</th>\n",
       "      <td>17</td>\n",
       "      <td>C0423636,C0013378,C0278210</td>\n",
       "    </tr>\n",
       "    <tr>\n",
       "      <th>17</th>\n",
       "      <td>18</td>\n",
       "      <td>C0156404,C0001241,C0312422</td>\n",
       "    </tr>\n",
       "    <tr>\n",
       "      <th>18</th>\n",
       "      <td>19</td>\n",
       "      <td>C0577477,C2981158,C0563158</td>\n",
       "    </tr>\n",
       "    <tr>\n",
       "      <th>19</th>\n",
       "      <td>20</td>\n",
       "      <td>C2981158,C0021177,C0312422</td>\n",
       "    </tr>\n",
       "  </tbody>\n",
       "</table>\n",
       "</div>"
      ],
      "text/plain": [
       "    id                        Code\n",
       "0    1  C0011124,C0042023,C0013378\n",
       "1    2  C2981158,C0011124,C0021177\n",
       "2    3  C0011124,C0042023,C0021177\n",
       "3    4  C0036902,C0011124,C0013378\n",
       "4    5  C0235283,C0812387,C0563717\n",
       "5    6  C0011124,C0042023,C0424528\n",
       "6    7  C0016382,C0011124,C0423636\n",
       "7    8  C0577477,C0011124,C0042023\n",
       "8    9  C0554978,C0563158,C0424537\n",
       "9   10  C0577477,C0425082,C0582140\n",
       "10  11  C0235283,C0016382,C0235239\n",
       "11  12  C0016382,C0812387,C0424537\n",
       "12  13  C0812387,C0424573,C0581879\n",
       "13  14  C0016382,C0812387,C0235239\n",
       "14  15  C0812387,C0582051,C0016382\n",
       "15  16  C0011124,C0042023,C2981158\n",
       "16  17  C0423636,C0013378,C0278210\n",
       "17  18  C0156404,C0001241,C0312422\n",
       "18  19  C0577477,C2981158,C0563158\n",
       "19  20  C2981158,C0021177,C0312422"
      ]
     },
     "execution_count": 16,
     "metadata": {},
     "output_type": "execute_result"
    }
   ],
   "source": [
    "result_df.head(20)"
   ]
  },
  {
   "cell_type": "code",
   "execution_count": 24,
   "id": "7489c2e0",
   "metadata": {},
   "outputs": [],
   "source": [
    "# NB (для себя) Вариант с логикой кластеров\n",
    "\n",
    "# from sklearn.cluster import KMeans \n",
    "    \n",
    "# def extract_cui_with_clustering(complaint_text):\n",
    "#     # Токенизация и кодирование текста\n",
    "#     input_ids = tokenizer.encode(complaint_text, return_tensors='tf')\n",
    "\n",
    "#     # Получение BERT эмбеддингов\n",
    "#     outputs = model(input_ids)\n",
    "#     embeddings = outputs.last_hidden_state\n",
    "\n",
    "#     # Применение кластеризации с KMeans\n",
    "#     kmeans = KMeans(n_clusters=529, random_state=0)\n",
    "#     cluster_labels = kmeans.fit_predict(embeddings)\n",
    "\n",
    "#     cui_codes = ['CUI' + str(label) for label in cluster_labels]\n",
    "    \n",
    "#     return cui_codes"
   ]
  },
  {
   "cell_type": "markdown",
   "id": "a3e1b2ee",
   "metadata": {},
   "source": [
    "## Сохраняем результаты"
   ]
  },
  {
   "cell_type": "markdown",
   "id": "9fb10737",
   "metadata": {},
   "source": [
    "### Вариант только с айди жалобы и кодами (формат str)"
   ]
  },
  {
   "cell_type": "code",
   "execution_count": 17,
   "id": "5aeb6acd",
   "metadata": {
    "scrolled": true
   },
   "outputs": [
    {
     "data": {
      "text/html": [
       "<div>\n",
       "<style scoped>\n",
       "    .dataframe tbody tr th:only-of-type {\n",
       "        vertical-align: middle;\n",
       "    }\n",
       "\n",
       "    .dataframe tbody tr th {\n",
       "        vertical-align: top;\n",
       "    }\n",
       "\n",
       "    .dataframe thead th {\n",
       "        text-align: right;\n",
       "    }\n",
       "</style>\n",
       "<table border=\"1\" class=\"dataframe\">\n",
       "  <thead>\n",
       "    <tr style=\"text-align: right;\">\n",
       "      <th></th>\n",
       "      <th>id</th>\n",
       "      <th>Code</th>\n",
       "    </tr>\n",
       "  </thead>\n",
       "  <tbody>\n",
       "    <tr>\n",
       "      <th>0</th>\n",
       "      <td>1</td>\n",
       "      <td>C0011124,C0042023,C0013378</td>\n",
       "    </tr>\n",
       "    <tr>\n",
       "      <th>1</th>\n",
       "      <td>2</td>\n",
       "      <td>C2981158,C0011124,C0021177</td>\n",
       "    </tr>\n",
       "    <tr>\n",
       "      <th>2</th>\n",
       "      <td>3</td>\n",
       "      <td>C0011124,C0042023,C0021177</td>\n",
       "    </tr>\n",
       "    <tr>\n",
       "      <th>3</th>\n",
       "      <td>4</td>\n",
       "      <td>C0036902,C0011124,C0013378</td>\n",
       "    </tr>\n",
       "    <tr>\n",
       "      <th>4</th>\n",
       "      <td>5</td>\n",
       "      <td>C0235283,C0812387,C0563717</td>\n",
       "    </tr>\n",
       "  </tbody>\n",
       "</table>\n",
       "</div>"
      ],
      "text/plain": [
       "  id                        Code\n",
       "0  1  C0011124,C0042023,C0013378\n",
       "1  2  C2981158,C0011124,C0021177\n",
       "2  3  C0011124,C0042023,C0021177\n",
       "3  4  C0036902,C0011124,C0013378\n",
       "4  5  C0235283,C0812387,C0563717"
      ]
     },
     "execution_count": 17,
     "metadata": {},
     "output_type": "execute_result"
    }
   ],
   "source": [
    "cols = ['id', 'Code']\n",
    "adr = result_df[cols]\n",
    "adr.head()"
   ]
  },
  {
   "cell_type": "code",
   "execution_count": 18,
   "id": "a8600987",
   "metadata": {},
   "outputs": [],
   "source": [
    "adr.to_csv('tychina_3.csv')"
   ]
  },
  {
   "cell_type": "markdown",
   "id": "2f1bcd2c",
   "metadata": {},
   "source": [
    "### Вариант как в домашнем задании"
   ]
  },
  {
   "cell_type": "code",
   "execution_count": 21,
   "id": "57399370",
   "metadata": {},
   "outputs": [
    {
     "data": {
      "text/html": [
       "<div>\n",
       "<style scoped>\n",
       "    .dataframe tbody tr th:only-of-type {\n",
       "        vertical-align: middle;\n",
       "    }\n",
       "\n",
       "    .dataframe tbody tr th {\n",
       "        vertical-align: top;\n",
       "    }\n",
       "\n",
       "    .dataframe thead th {\n",
       "        text-align: right;\n",
       "    }\n",
       "</style>\n",
       "<table border=\"1\" class=\"dataframe\">\n",
       "  <thead>\n",
       "    <tr style=\"text-align: right;\">\n",
       "      <th></th>\n",
       "      <th>id</th>\n",
       "      <th>Code</th>\n",
       "      <th>One_Code</th>\n",
       "    </tr>\n",
       "  </thead>\n",
       "  <tbody>\n",
       "    <tr>\n",
       "      <th>0</th>\n",
       "      <td>1</td>\n",
       "      <td>C0011124,C0042023,C0013378</td>\n",
       "      <td>C0011124</td>\n",
       "    </tr>\n",
       "    <tr>\n",
       "      <th>1</th>\n",
       "      <td>2</td>\n",
       "      <td>C2981158,C0011124,C0021177</td>\n",
       "      <td>C2981158</td>\n",
       "    </tr>\n",
       "    <tr>\n",
       "      <th>2</th>\n",
       "      <td>3</td>\n",
       "      <td>C0011124,C0042023,C0021177</td>\n",
       "      <td>C0011124</td>\n",
       "    </tr>\n",
       "    <tr>\n",
       "      <th>3</th>\n",
       "      <td>4</td>\n",
       "      <td>C0036902,C0011124,C0013378</td>\n",
       "      <td>C0036902</td>\n",
       "    </tr>\n",
       "    <tr>\n",
       "      <th>4</th>\n",
       "      <td>5</td>\n",
       "      <td>C0235283,C0812387,C0563717</td>\n",
       "      <td>C0235283</td>\n",
       "    </tr>\n",
       "  </tbody>\n",
       "</table>\n",
       "</div>"
      ],
      "text/plain": [
       "  id                        Code  One_Code\n",
       "0  1  C0011124,C0042023,C0013378  C0011124\n",
       "1  2  C2981158,C0011124,C0021177  C2981158\n",
       "2  3  C0011124,C0042023,C0021177  C0011124\n",
       "3  4  C0036902,C0011124,C0013378  C0036902\n",
       "4  5  C0235283,C0812387,C0563717  C0235283"
      ]
     },
     "execution_count": 21,
     "metadata": {},
     "output_type": "execute_result"
    }
   ],
   "source": [
    "adr['One_Code'] = adr['Code'].apply(lambda x: x[0:8]) \n",
    "adr.head()"
   ]
  },
  {
   "cell_type": "code",
   "execution_count": 22,
   "id": "1676b5d8",
   "metadata": {
    "scrolled": true
   },
   "outputs": [
    {
     "data": {
      "text/plain": [
       "C0812387    283\n",
       "C0011124    281\n",
       "C0016382    203\n",
       "C0042023    194\n",
       "C2981158     71\n",
       "           ... \n",
       "C0549622      1\n",
       "C2939147      1\n",
       "C0234019      1\n",
       "C0554978      1\n",
       "C4074950      1\n",
       "Name: One_Code, Length: 119, dtype: int64"
      ]
     },
     "execution_count": 22,
     "metadata": {},
     "output_type": "execute_result"
    }
   ],
   "source": [
    "adr['One_Code'].value_counts()"
   ]
  },
  {
   "cell_type": "markdown",
   "id": "a85a3d0d",
   "metadata": {},
   "source": [
    "Топ 5:\n",
    "1. Ощущение зябкости\n",
    "2. Снижение либидо\n",
    "3. Покраснение лица\n",
    "4. Учащение мочеиспускания\n",
    "5. Снижение либидо"
   ]
  },
  {
   "cell_type": "code",
   "execution_count": 23,
   "id": "2b4dd073",
   "metadata": {},
   "outputs": [
    {
     "data": {
      "text/html": [
       "<div>\n",
       "<style scoped>\n",
       "    .dataframe tbody tr th:only-of-type {\n",
       "        vertical-align: middle;\n",
       "    }\n",
       "\n",
       "    .dataframe tbody tr th {\n",
       "        vertical-align: top;\n",
       "    }\n",
       "\n",
       "    .dataframe thead th {\n",
       "        text-align: right;\n",
       "    }\n",
       "</style>\n",
       "<table border=\"1\" class=\"dataframe\">\n",
       "  <thead>\n",
       "    <tr style=\"text-align: right;\">\n",
       "      <th></th>\n",
       "      <th>id</th>\n",
       "      <th>One_Code</th>\n",
       "      <th>level_1</th>\n",
       "      <th>level_2</th>\n",
       "      <th>level_3</th>\n",
       "      <th>level_4</th>\n",
       "      <th>level_5</th>\n",
       "    </tr>\n",
       "  </thead>\n",
       "  <tbody>\n",
       "    <tr>\n",
       "      <th>0</th>\n",
       "      <td>1</td>\n",
       "      <td>C0011124</td>\n",
       "      <td>0</td>\n",
       "      <td>0</td>\n",
       "      <td>0</td>\n",
       "      <td>0</td>\n",
       "      <td>1</td>\n",
       "    </tr>\n",
       "    <tr>\n",
       "      <th>1</th>\n",
       "      <td>2</td>\n",
       "      <td>C2981158</td>\n",
       "      <td>0</td>\n",
       "      <td>0</td>\n",
       "      <td>0</td>\n",
       "      <td>0</td>\n",
       "      <td>1</td>\n",
       "    </tr>\n",
       "    <tr>\n",
       "      <th>2</th>\n",
       "      <td>3</td>\n",
       "      <td>C0011124</td>\n",
       "      <td>0</td>\n",
       "      <td>0</td>\n",
       "      <td>0</td>\n",
       "      <td>0</td>\n",
       "      <td>1</td>\n",
       "    </tr>\n",
       "    <tr>\n",
       "      <th>3</th>\n",
       "      <td>4</td>\n",
       "      <td>C0036902</td>\n",
       "      <td>0</td>\n",
       "      <td>0</td>\n",
       "      <td>0</td>\n",
       "      <td>0</td>\n",
       "      <td>1</td>\n",
       "    </tr>\n",
       "    <tr>\n",
       "      <th>4</th>\n",
       "      <td>5</td>\n",
       "      <td>C0235283</td>\n",
       "      <td>0</td>\n",
       "      <td>0</td>\n",
       "      <td>0</td>\n",
       "      <td>0</td>\n",
       "      <td>1</td>\n",
       "    </tr>\n",
       "  </tbody>\n",
       "</table>\n",
       "</div>"
      ],
      "text/plain": [
       "  id  One_Code  level_1  level_2  level_3  level_4  level_5\n",
       "0  1  C0011124        0        0        0        0        1\n",
       "1  2  C2981158        0        0        0        0        1\n",
       "2  3  C0011124        0        0        0        0        1\n",
       "3  4  C0036902        0        0        0        0        1\n",
       "4  5  C0235283        0        0        0        0        1"
      ]
     },
     "execution_count": 23,
     "metadata": {},
     "output_type": "execute_result"
    }
   ],
   "source": [
    "cols = ['id', 'One_Code']\n",
    "adr_2 = adr[cols]\n",
    "\n",
    "for el in range(1, 5):\n",
    "    col_name = 'level_' + str(el)\n",
    "    adr_2[col_name] = 0\n",
    "\n",
    "adr_2['level_5'] = 1\n",
    "adr_2.head()"
   ]
  },
  {
   "cell_type": "code",
   "execution_count": 24,
   "id": "a398297b",
   "metadata": {},
   "outputs": [],
   "source": [
    "adr.to_csv('tychina_3_2.csv') # не убирала индексы!!"
   ]
  }
 ],
 "metadata": {
  "kernelspec": {
   "display_name": "Python 3 (ipykernel)",
   "language": "python",
   "name": "python3"
  },
  "language_info": {
   "codemirror_mode": {
    "name": "ipython",
    "version": 3
   },
   "file_extension": ".py",
   "mimetype": "text/x-python",
   "name": "python",
   "nbconvert_exporter": "python",
   "pygments_lexer": "ipython3",
   "version": "3.10.8"
  }
 },
 "nbformat": 4,
 "nbformat_minor": 5
}
