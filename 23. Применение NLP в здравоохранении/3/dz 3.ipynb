{
 "cells": [
  {
   "cell_type": "code",
   "execution_count": 1,
   "id": "046ad2af",
   "metadata": {},
   "outputs": [],
   "source": [
    "import pandas as pd\n",
    "import numpy as np\n",
    "from nltk.corpus import stopwords\n",
    "import re\n",
    "import requests\n",
    "from bs4 import BeautifulSoup\n",
    "from sklearn.feature_extraction.text import TfidfVectorizer\n",
    "from sklearn.linear_model import LogisticRegression\n",
    "from sklearn.pipeline import Pipeline\n",
    "from sklearn.preprocessing import LabelEncoder\n",
    "\n",
    "\n",
    "import warnings\n",
    "warnings.filterwarnings('ignore')"
   ]
  },
  {
   "cell_type": "markdown",
   "id": "099ac1d9",
   "metadata": {},
   "source": [
    "## Словарь"
   ]
  },
  {
   "cell_type": "code",
   "execution_count": 2,
   "id": "abe0f1b3",
   "metadata": {
    "scrolled": true
   },
   "outputs": [
    {
     "data": {
      "text/html": [
       "<div>\n",
       "<style scoped>\n",
       "    .dataframe tbody tr th:only-of-type {\n",
       "        vertical-align: middle;\n",
       "    }\n",
       "\n",
       "    .dataframe tbody tr th {\n",
       "        vertical-align: top;\n",
       "    }\n",
       "\n",
       "    .dataframe thead th {\n",
       "        text-align: right;\n",
       "    }\n",
       "</style>\n",
       "<table border=\"1\" class=\"dataframe\">\n",
       "  <thead>\n",
       "    <tr style=\"text-align: right;\">\n",
       "      <th></th>\n",
       "      <th>CUI</th>\n",
       "      <th>CONCEPT</th>\n",
       "      <th>SNOMED_CODE</th>\n",
       "    </tr>\n",
       "  </thead>\n",
       "  <tbody>\n",
       "    <tr>\n",
       "      <th>0</th>\n",
       "      <td>C0000765</td>\n",
       "      <td>Excessive body weight gain,Excessive weight gain</td>\n",
       "      <td>224994002</td>\n",
       "    </tr>\n",
       "    <tr>\n",
       "      <th>1</th>\n",
       "      <td>C0701811</td>\n",
       "      <td>Poor short-term memory,Poor short-term memory</td>\n",
       "      <td>247592009</td>\n",
       "    </tr>\n",
       "    <tr>\n",
       "      <th>2</th>\n",
       "      <td>C0002170</td>\n",
       "      <td>Alopecia,Loss of hair</td>\n",
       "      <td>278040002</td>\n",
       "    </tr>\n",
       "    <tr>\n",
       "      <th>3</th>\n",
       "      <td>C0549622</td>\n",
       "      <td>Sexual Dysfunction,Sexual disorder</td>\n",
       "      <td>231532002</td>\n",
       "    </tr>\n",
       "    <tr>\n",
       "      <th>4</th>\n",
       "      <td>C0027497</td>\n",
       "      <td>Nausea,Nausea</td>\n",
       "      <td>422587007</td>\n",
       "    </tr>\n",
       "  </tbody>\n",
       "</table>\n",
       "</div>"
      ],
      "text/plain": [
       "         CUI                                           CONCEPT SNOMED_CODE\n",
       "0  C0000765   Excessive body weight gain,Excessive weight gain   224994002\n",
       "1  C0701811      Poor short-term memory,Poor short-term memory   247592009\n",
       "2  C0002170                              Alopecia,Loss of hair   278040002\n",
       "3  C0549622                 Sexual Dysfunction,Sexual disorder   231532002\n",
       "4  C0027497                                      Nausea,Nausea   422587007"
      ]
     },
     "execution_count": 2,
     "metadata": {},
     "output_type": "execute_result"
    }
   ],
   "source": [
    "concept_df = pd.read_csv('концепты.tsv', sep='\\t')\n",
    "concept_df.head()"
   ]
  },
  {
   "cell_type": "code",
   "execution_count": 3,
   "id": "c3c6a11d",
   "metadata": {},
   "outputs": [
    {
     "data": {
      "text/plain": [
       "544"
      ]
     },
     "execution_count": 3,
     "metadata": {},
     "output_type": "execute_result"
    }
   ],
   "source": [
    "len(concept_df)"
   ]
  },
  {
   "cell_type": "code",
   "execution_count": 4,
   "id": "e41770a5",
   "metadata": {},
   "outputs": [
    {
     "data": {
      "text/html": [
       "<div>\n",
       "<style scoped>\n",
       "    .dataframe tbody tr th:only-of-type {\n",
       "        vertical-align: middle;\n",
       "    }\n",
       "\n",
       "    .dataframe tbody tr th {\n",
       "        vertical-align: top;\n",
       "    }\n",
       "\n",
       "    .dataframe thead th {\n",
       "        text-align: right;\n",
       "    }\n",
       "</style>\n",
       "<table border=\"1\" class=\"dataframe\">\n",
       "  <thead>\n",
       "    <tr style=\"text-align: right;\">\n",
       "      <th></th>\n",
       "      <th>CUI</th>\n",
       "      <th>CONCEPT</th>\n",
       "      <th>SNOMED_CODE</th>\n",
       "    </tr>\n",
       "  </thead>\n",
       "  <tbody>\n",
       "    <tr>\n",
       "      <th>0</th>\n",
       "      <td>[C0000765]</td>\n",
       "      <td>Excessive body weight gain,Excessive weight gain</td>\n",
       "      <td>224994002</td>\n",
       "    </tr>\n",
       "    <tr>\n",
       "      <th>1</th>\n",
       "      <td>[C0701811]</td>\n",
       "      <td>Poor short-term memory,Poor short-term memory</td>\n",
       "      <td>247592009</td>\n",
       "    </tr>\n",
       "    <tr>\n",
       "      <th>2</th>\n",
       "      <td>[C0002170]</td>\n",
       "      <td>Alopecia,Loss of hair</td>\n",
       "      <td>278040002</td>\n",
       "    </tr>\n",
       "    <tr>\n",
       "      <th>3</th>\n",
       "      <td>[C0549622]</td>\n",
       "      <td>Sexual Dysfunction,Sexual disorder</td>\n",
       "      <td>231532002</td>\n",
       "    </tr>\n",
       "    <tr>\n",
       "      <th>4</th>\n",
       "      <td>[C0027497]</td>\n",
       "      <td>Nausea,Nausea</td>\n",
       "      <td>422587007</td>\n",
       "    </tr>\n",
       "  </tbody>\n",
       "</table>\n",
       "</div>"
      ],
      "text/plain": [
       "          CUI                                           CONCEPT SNOMED_CODE\n",
       "0  [C0000765]  Excessive body weight gain,Excessive weight gain   224994002\n",
       "1  [C0701811]     Poor short-term memory,Poor short-term memory   247592009\n",
       "2  [C0002170]                             Alopecia,Loss of hair   278040002\n",
       "3  [C0549622]                Sexual Dysfunction,Sexual disorder   231532002\n",
       "4  [C0027497]                                     Nausea,Nausea   422587007"
      ]
     },
     "execution_count": 4,
     "metadata": {},
     "output_type": "execute_result"
    }
   ],
   "source": [
    "concept_df['CUI'] = concept_df['CUI'].apply(lambda x: re.findall(r'C[0-9]{7}', x))\n",
    "concept_df.head()"
   ]
  },
  {
   "cell_type": "code",
   "execution_count": 5,
   "id": "96562634",
   "metadata": {},
   "outputs": [
    {
     "data": {
      "text/html": [
       "<div>\n",
       "<style scoped>\n",
       "    .dataframe tbody tr th:only-of-type {\n",
       "        vertical-align: middle;\n",
       "    }\n",
       "\n",
       "    .dataframe tbody tr th {\n",
       "        vertical-align: top;\n",
       "    }\n",
       "\n",
       "    .dataframe thead th {\n",
       "        text-align: right;\n",
       "    }\n",
       "</style>\n",
       "<table border=\"1\" class=\"dataframe\">\n",
       "  <thead>\n",
       "    <tr style=\"text-align: right;\">\n",
       "      <th></th>\n",
       "      <th>CUI</th>\n",
       "      <th>CONCEPT</th>\n",
       "      <th>SNOMED_CODE</th>\n",
       "      <th>проверка</th>\n",
       "    </tr>\n",
       "  </thead>\n",
       "  <tbody>\n",
       "    <tr>\n",
       "      <th>0</th>\n",
       "      <td>C0000765</td>\n",
       "      <td>Excessive body weight gain,Excessive weight gain</td>\n",
       "      <td>224994002</td>\n",
       "      <td>yes</td>\n",
       "    </tr>\n",
       "    <tr>\n",
       "      <th>1</th>\n",
       "      <td>C0701811</td>\n",
       "      <td>Poor short-term memory,Poor short-term memory</td>\n",
       "      <td>247592009</td>\n",
       "      <td>yes</td>\n",
       "    </tr>\n",
       "    <tr>\n",
       "      <th>2</th>\n",
       "      <td>C0002170</td>\n",
       "      <td>Alopecia,Loss of hair</td>\n",
       "      <td>278040002</td>\n",
       "      <td>yes</td>\n",
       "    </tr>\n",
       "    <tr>\n",
       "      <th>3</th>\n",
       "      <td>C0549622</td>\n",
       "      <td>Sexual Dysfunction,Sexual disorder</td>\n",
       "      <td>231532002</td>\n",
       "      <td>yes</td>\n",
       "    </tr>\n",
       "    <tr>\n",
       "      <th>4</th>\n",
       "      <td>C0027497</td>\n",
       "      <td>Nausea,Nausea</td>\n",
       "      <td>422587007</td>\n",
       "      <td>yes</td>\n",
       "    </tr>\n",
       "  </tbody>\n",
       "</table>\n",
       "</div>"
      ],
      "text/plain": [
       "        CUI                                           CONCEPT SNOMED_CODE  \\\n",
       "0  C0000765  Excessive body weight gain,Excessive weight gain   224994002   \n",
       "1  C0701811     Poor short-term memory,Poor short-term memory   247592009   \n",
       "2  C0002170                             Alopecia,Loss of hair   278040002   \n",
       "3  C0549622                Sexual Dysfunction,Sexual disorder   231532002   \n",
       "4  C0027497                                     Nausea,Nausea   422587007   \n",
       "\n",
       "  проверка  \n",
       "0      yes  \n",
       "1      yes  \n",
       "2      yes  \n",
       "3      yes  \n",
       "4      yes  "
      ]
     },
     "execution_count": 5,
     "metadata": {},
     "output_type": "execute_result"
    }
   ],
   "source": [
    "concept_df['CUI'] = concept_df['CUI'].apply(lambda x: ''.join(x))\n",
    "concept_df['проверка'] = concept_df['CUI'].apply(lambda x: 'yes' if len(x) == 8 else 'no')\n",
    "\n",
    "concept_df.head()"
   ]
  },
  {
   "cell_type": "code",
   "execution_count": 6,
   "id": "60158bde",
   "metadata": {},
   "outputs": [
    {
     "data": {
      "text/plain": [
       "yes    544\n",
       "Name: проверка, dtype: int64"
      ]
     },
     "execution_count": 6,
     "metadata": {},
     "output_type": "execute_result"
    }
   ],
   "source": [
    "concept_df['проверка'].value_counts()"
   ]
  },
  {
   "cell_type": "markdown",
   "id": "d1179832",
   "metadata": {},
   "source": [
    "там до этого был один \"no\" из-за кода который начинался с маленькой \"с\""
   ]
  },
  {
   "cell_type": "code",
   "execution_count": 7,
   "id": "cface4be",
   "metadata": {},
   "outputs": [
    {
     "data": {
      "text/plain": [
       "C0231403    3\n",
       "C0557386    2\n",
       "C0392171    2\n",
       "C0233408    2\n",
       "C0151786    2\n",
       "           ..\n",
       "C0003862    1\n",
       "C0427195    1\n",
       "C0426584    1\n",
       "C0232461    1\n",
       "C0587054    1\n",
       "Name: CUI, Length: 529, dtype: int64"
      ]
     },
     "execution_count": 7,
     "metadata": {},
     "output_type": "execute_result"
    }
   ],
   "source": [
    "concept_df['CUI'].value_counts()"
   ]
  },
  {
   "cell_type": "markdown",
   "id": "254badd2",
   "metadata": {},
   "source": [
    "529 vs 544 <br> есть повторы кодов"
   ]
  },
  {
   "cell_type": "code",
   "execution_count": 8,
   "id": "77f19957",
   "metadata": {},
   "outputs": [
    {
     "data": {
      "text/plain": [
       "529"
      ]
     },
     "execution_count": 8,
     "metadata": {},
     "output_type": "execute_result"
    }
   ],
   "source": [
    "concept_df = concept_df[['CUI', 'CONCEPT']].drop_duplicates(subset=['CUI'])\n",
    "len(concept_df)"
   ]
  },
  {
   "cell_type": "code",
   "execution_count": 9,
   "id": "f67f5d7c",
   "metadata": {},
   "outputs": [
    {
     "data": {
      "text/html": [
       "<div>\n",
       "<style scoped>\n",
       "    .dataframe tbody tr th:only-of-type {\n",
       "        vertical-align: middle;\n",
       "    }\n",
       "\n",
       "    .dataframe tbody tr th {\n",
       "        vertical-align: top;\n",
       "    }\n",
       "\n",
       "    .dataframe thead th {\n",
       "        text-align: right;\n",
       "    }\n",
       "</style>\n",
       "<table border=\"1\" class=\"dataframe\">\n",
       "  <thead>\n",
       "    <tr style=\"text-align: right;\">\n",
       "      <th></th>\n",
       "      <th>CUI</th>\n",
       "      <th>CONCEPT</th>\n",
       "    </tr>\n",
       "  </thead>\n",
       "  <tbody>\n",
       "    <tr>\n",
       "      <th>0</th>\n",
       "      <td>C0000765</td>\n",
       "      <td>weight gain excessive body</td>\n",
       "    </tr>\n",
       "    <tr>\n",
       "      <th>1</th>\n",
       "      <td>C0701811</td>\n",
       "      <td>memory short-term poor</td>\n",
       "    </tr>\n",
       "    <tr>\n",
       "      <th>2</th>\n",
       "      <td>C0002170</td>\n",
       "      <td>alopecia loss hair</td>\n",
       "    </tr>\n",
       "    <tr>\n",
       "      <th>3</th>\n",
       "      <td>C0549622</td>\n",
       "      <td>disorder dysfunction sexual</td>\n",
       "    </tr>\n",
       "    <tr>\n",
       "      <th>4</th>\n",
       "      <td>C0027497</td>\n",
       "      <td>nausea</td>\n",
       "    </tr>\n",
       "  </tbody>\n",
       "</table>\n",
       "</div>"
      ],
      "text/plain": [
       "        CUI                      CONCEPT\n",
       "0  C0000765   weight gain excessive body\n",
       "1  C0701811       memory short-term poor\n",
       "2  C0002170           alopecia loss hair\n",
       "3  C0549622  disorder dysfunction sexual\n",
       "4  C0027497                       nausea"
      ]
     },
     "execution_count": 9,
     "metadata": {},
     "output_type": "execute_result"
    }
   ],
   "source": [
    "def tune_for_row(name_df, name_row):\n",
    "    name_df[name_row] = name_df[name_row].str.lower()\n",
    "    name_df[name_row] = name_df[name_row].apply(lambda x: re.sub(',', ' ', x))\n",
    "    name_df[name_row] = name_df[name_row].str.split()\n",
    "    name_df[name_row] = name_df[name_row].apply(lambda x: [item for item in x if str(item) not in stopwords.words('english')])\n",
    "    name_df[name_row] = name_df[name_row].apply(lambda x: set(x))\n",
    "    name_df[name_row] = name_df[name_row].apply(lambda x: ' '.join(x))\n",
    "\n",
    "tune_for_row(concept_df, 'CONCEPT')\n",
    "\n",
    "concept_df.head()"
   ]
  },
  {
   "cell_type": "markdown",
   "id": "0d03849e",
   "metadata": {},
   "source": [
    "## Сами жалобы"
   ]
  },
  {
   "cell_type": "code",
   "execution_count": 10,
   "id": "5ee39d78",
   "metadata": {},
   "outputs": [
    {
     "data": {
      "text/html": [
       "<div>\n",
       "<style scoped>\n",
       "    .dataframe tbody tr th:only-of-type {\n",
       "        vertical-align: middle;\n",
       "    }\n",
       "\n",
       "    .dataframe tbody tr th {\n",
       "        vertical-align: top;\n",
       "    }\n",
       "\n",
       "    .dataframe thead th {\n",
       "        text-align: right;\n",
       "    }\n",
       "</style>\n",
       "<table border=\"1\" class=\"dataframe\">\n",
       "  <thead>\n",
       "    <tr style=\"text-align: right;\">\n",
       "      <th></th>\n",
       "      <th>id</th>\n",
       "      <th>Text</th>\n",
       "    </tr>\n",
       "  </thead>\n",
       "  <tbody>\n",
       "    <tr>\n",
       "      <th>0</th>\n",
       "      <td>1</td>\n",
       "      <td>extreme weight gain, short-term memory loss, hair loss.</td>\n",
       "    </tr>\n",
       "    <tr>\n",
       "      <th>1</th>\n",
       "      <td>2</td>\n",
       "      <td>COMPLETELY DESTROYED SEXUALLY FUNCTIONING .</td>\n",
       "    </tr>\n",
       "    <tr>\n",
       "      <th>2</th>\n",
       "      <td>3</td>\n",
       "      <td>Just TWO tablets of Lexapro 10mg completely destroyed my sexual functioning, probably for life.</td>\n",
       "    </tr>\n",
       "    <tr>\n",
       "      <th>3</th>\n",
       "      <td>4</td>\n",
       "      <td>It's called PSSD: post-SSRI sexual dysfunction.</td>\n",
       "    </tr>\n",
       "    <tr>\n",
       "      <th>4</th>\n",
       "      <td>5</td>\n",
       "      <td>And there is a chance that it will give you PSSD, which as the name suggests persists even after you stop taking the drug, Just google 'PSSD' and you'll see what I mean, So please: NEVER take this drug, not even one tablet.</td>\n",
       "    </tr>\n",
       "  </tbody>\n",
       "</table>\n",
       "</div>"
      ],
      "text/plain": [
       "   id  \\\n",
       "0   1   \n",
       "1   2   \n",
       "2   3   \n",
       "3   4   \n",
       "4   5   \n",
       "\n",
       "                                                                                                                                                                                                                              Text  \n",
       "0                                                                                                                                                                          extreme weight gain, short-term memory loss, hair loss.  \n",
       "1                                                                                                                                                                                      COMPLETELY DESTROYED SEXUALLY FUNCTIONING .  \n",
       "2                                                                                                                                  Just TWO tablets of Lexapro 10mg completely destroyed my sexual functioning, probably for life.  \n",
       "3                                                                                                                                                                                  It's called PSSD: post-SSRI sexual dysfunction.  \n",
       "4  And there is a chance that it will give you PSSD, which as the name suggests persists even after you stop taking the drug, Just google 'PSSD' and you'll see what I mean, So please: NEVER take this drug, not even one tablet.  "
      ]
     },
     "execution_count": 10,
     "metadata": {},
     "output_type": "execute_result"
    }
   ],
   "source": [
    "pd.set_option('display.max_colwidth', None)\n",
    "complaints_df = pd.read_csv('побочные_эффекты.txt', delimiter='\\t')\n",
    "complaints_df.head()"
   ]
  },
  {
   "cell_type": "code",
   "execution_count": 11,
   "id": "9ce8580b",
   "metadata": {},
   "outputs": [],
   "source": [
    "def tune_for_row(name_df, name_row):\n",
    "    name_df[name_row] = complaints_df[name_row].str.lower()\n",
    "    name_df[name_row] = complaints_df[name_row].str.split()\n",
    "    name_df[name_row] = complaints_df[name_row].apply(lambda x: [item for item in x if str(item) not in stopwords.words('english')])\n",
    "    name_df[name_row] = name_df[name_row].apply(lambda x: set(x))\n",
    "    name_df[name_row] = complaints_df[name_row].apply(lambda x: ' '.join(x))"
   ]
  },
  {
   "cell_type": "code",
   "execution_count": 12,
   "id": "25cce93a",
   "metadata": {},
   "outputs": [
    {
     "data": {
      "text/html": [
       "<div>\n",
       "<style scoped>\n",
       "    .dataframe tbody tr th:only-of-type {\n",
       "        vertical-align: middle;\n",
       "    }\n",
       "\n",
       "    .dataframe tbody tr th {\n",
       "        vertical-align: top;\n",
       "    }\n",
       "\n",
       "    .dataframe thead th {\n",
       "        text-align: right;\n",
       "    }\n",
       "</style>\n",
       "<table border=\"1\" class=\"dataframe\">\n",
       "  <thead>\n",
       "    <tr style=\"text-align: right;\">\n",
       "      <th></th>\n",
       "      <th>id</th>\n",
       "      <th>Text</th>\n",
       "    </tr>\n",
       "  </thead>\n",
       "  <tbody>\n",
       "    <tr>\n",
       "      <th>0</th>\n",
       "      <td>1</td>\n",
       "      <td>gain, loss, weight short-term hair memory loss. extreme</td>\n",
       "    </tr>\n",
       "    <tr>\n",
       "      <th>1</th>\n",
       "      <td>2</td>\n",
       "      <td>completely destroyed . sexually functioning</td>\n",
       "    </tr>\n",
       "    <tr>\n",
       "      <th>2</th>\n",
       "      <td>3</td>\n",
       "      <td>two sexual lexapro life. tablets completely probably functioning, destroyed 10mg</td>\n",
       "    </tr>\n",
       "    <tr>\n",
       "      <th>3</th>\n",
       "      <td>4</td>\n",
       "      <td>pssd: sexual dysfunction. called post-ssri</td>\n",
       "    </tr>\n",
       "    <tr>\n",
       "      <th>4</th>\n",
       "      <td>5</td>\n",
       "      <td>pssd, name one suggests chance taking tablet. google give 'pssd' even please: take never stop mean, persists see drug,</td>\n",
       "    </tr>\n",
       "  </tbody>\n",
       "</table>\n",
       "</div>"
      ],
      "text/plain": [
       "   id  \\\n",
       "0   1   \n",
       "1   2   \n",
       "2   3   \n",
       "3   4   \n",
       "4   5   \n",
       "\n",
       "                                                                                                                     Text  \n",
       "0                                                                 gain, loss, weight short-term hair memory loss. extreme  \n",
       "1                                                                             completely destroyed . sexually functioning  \n",
       "2                                        two sexual lexapro life. tablets completely probably functioning, destroyed 10mg  \n",
       "3                                                                              pssd: sexual dysfunction. called post-ssri  \n",
       "4  pssd, name one suggests chance taking tablet. google give 'pssd' even please: take never stop mean, persists see drug,  "
      ]
     },
     "execution_count": 12,
     "metadata": {},
     "output_type": "execute_result"
    }
   ],
   "source": [
    "tune_for_row(complaints_df, 'Text')\n",
    "complaints_df.head()"
   ]
  },
  {
   "cell_type": "code",
   "execution_count": 13,
   "id": "d8e6b51e",
   "metadata": {},
   "outputs": [
    {
     "data": {
      "text/plain": [
       "2150"
      ]
     },
     "execution_count": 13,
     "metadata": {},
     "output_type": "execute_result"
    }
   ],
   "source": [
    "len(complaints_df)"
   ]
  },
  {
   "cell_type": "markdown",
   "id": "dba02ca0",
   "metadata": {},
   "source": [
    "2150 потому что в \"побочные_эффекты\" были пропущены некоторые айдишники жалоб (например: 1182, 1184)"
   ]
  },
  {
   "cell_type": "markdown",
   "id": "8cf69376",
   "metadata": {},
   "source": [
    "## Модель итд"
   ]
  },
  {
   "cell_type": "code",
   "execution_count": 14,
   "id": "7a175702",
   "metadata": {},
   "outputs": [
    {
     "data": {
      "text/html": [
       "<div>\n",
       "<style scoped>\n",
       "    .dataframe tbody tr th:only-of-type {\n",
       "        vertical-align: middle;\n",
       "    }\n",
       "\n",
       "    .dataframe tbody tr th {\n",
       "        vertical-align: top;\n",
       "    }\n",
       "\n",
       "    .dataframe thead th {\n",
       "        text-align: right;\n",
       "    }\n",
       "</style>\n",
       "<table border=\"1\" class=\"dataframe\">\n",
       "  <thead>\n",
       "    <tr style=\"text-align: right;\">\n",
       "      <th></th>\n",
       "      <th>CUI</th>\n",
       "      <th>TEXT</th>\n",
       "    </tr>\n",
       "  </thead>\n",
       "  <tbody>\n",
       "    <tr>\n",
       "      <th>0</th>\n",
       "      <td>C0000765</td>\n",
       "      <td>weight gain excessive body</td>\n",
       "    </tr>\n",
       "    <tr>\n",
       "      <th>1</th>\n",
       "      <td>C0701811</td>\n",
       "      <td>memory short-term poor</td>\n",
       "    </tr>\n",
       "    <tr>\n",
       "      <th>2</th>\n",
       "      <td>C0002170</td>\n",
       "      <td>alopecia loss hair</td>\n",
       "    </tr>\n",
       "    <tr>\n",
       "      <th>3</th>\n",
       "      <td>C0549622</td>\n",
       "      <td>disorder dysfunction sexual</td>\n",
       "    </tr>\n",
       "    <tr>\n",
       "      <th>4</th>\n",
       "      <td>C0027497</td>\n",
       "      <td>nausea</td>\n",
       "    </tr>\n",
       "  </tbody>\n",
       "</table>\n",
       "</div>"
      ],
      "text/plain": [
       "        CUI                         TEXT\n",
       "0  C0000765   weight gain excessive body\n",
       "1  C0701811       memory short-term poor\n",
       "2  C0002170           alopecia loss hair\n",
       "3  C0549622  disorder dysfunction sexual\n",
       "4  C0027497                       nausea"
      ]
     },
     "execution_count": 14,
     "metadata": {},
     "output_type": "execute_result"
    }
   ],
   "source": [
    "train_df = concept_df\n",
    "train_df.rename(columns={'CONCEPT': 'TEXT'}, inplace=True)\n",
    "\n",
    "train_df.head()"
   ]
  },
  {
   "cell_type": "markdown",
   "id": "d3e669fe",
   "metadata": {},
   "source": [
    "### Последний шаг с моделью и предсказаниями"
   ]
  },
  {
   "cell_type": "code",
   "execution_count": 15,
   "id": "60e0a492",
   "metadata": {},
   "outputs": [],
   "source": [
    "from sklearn.feature_extraction.text import TfidfVectorizer\n",
    "from sklearn.preprocessing import MultiLabelBinarizer\n",
    "from sklearn.multioutput import MultiOutputClassifier\n",
    "from sklearn.ensemble import RandomForestClassifier"
   ]
  },
  {
   "cell_type": "code",
   "execution_count": 34,
   "id": "c534cb59",
   "metadata": {},
   "outputs": [
    {
     "data": {
      "text/plain": [
       "RandomForestClassifier()"
      ]
     },
     "execution_count": 34,
     "metadata": {},
     "output_type": "execute_result"
    }
   ],
   "source": [
    "# Преобразование меток классов 'CUI' в числовой формат\n",
    "label_encoder = LabelEncoder()\n",
    "train_df['Code'] = label_encoder.fit_transform(train_df['CUI'])\n",
    "\n",
    "# Обучение модели на train_df\n",
    "tfidf_vectorizer = TfidfVectorizer()\n",
    "X_train = tfidf_vectorizer.fit_transform(train_df['TEXT'])\n",
    "y_train = train_df['Code']\n",
    "model = RandomForestClassifier()\n",
    "model.fit(X_train, y_train)"
   ]
  },
  {
   "cell_type": "code",
   "execution_count": 35,
   "id": "b7e9b276",
   "metadata": {
    "scrolled": false
   },
   "outputs": [
    {
     "data": {
      "text/html": [
       "<div>\n",
       "<style scoped>\n",
       "    .dataframe tbody tr th:only-of-type {\n",
       "        vertical-align: middle;\n",
       "    }\n",
       "\n",
       "    .dataframe tbody tr th {\n",
       "        vertical-align: top;\n",
       "    }\n",
       "\n",
       "    .dataframe thead th {\n",
       "        text-align: right;\n",
       "    }\n",
       "</style>\n",
       "<table border=\"1\" class=\"dataframe\">\n",
       "  <thead>\n",
       "    <tr style=\"text-align: right;\">\n",
       "      <th></th>\n",
       "      <th>id</th>\n",
       "      <th>Text</th>\n",
       "      <th>Code</th>\n",
       "    </tr>\n",
       "  </thead>\n",
       "  <tbody>\n",
       "    <tr>\n",
       "      <th>0</th>\n",
       "      <td>1</td>\n",
       "      <td>gain, loss, weight short-term hair memory loss. extreme</td>\n",
       "      <td>C0701811</td>\n",
       "    </tr>\n",
       "    <tr>\n",
       "      <th>1</th>\n",
       "      <td>2</td>\n",
       "      <td>completely destroyed . sexually functioning</td>\n",
       "      <td>C0425736</td>\n",
       "    </tr>\n",
       "    <tr>\n",
       "      <th>2</th>\n",
       "      <td>3</td>\n",
       "      <td>two sexual lexapro life. tablets completely probably functioning, destroyed 10mg</td>\n",
       "      <td>C0549622</td>\n",
       "    </tr>\n",
       "    <tr>\n",
       "      <th>3</th>\n",
       "      <td>4</td>\n",
       "      <td>pssd: sexual dysfunction. called post-ssri</td>\n",
       "      <td>C0549622</td>\n",
       "    </tr>\n",
       "    <tr>\n",
       "      <th>4</th>\n",
       "      <td>5</td>\n",
       "      <td>pssd, name one suggests chance taking tablet. google give 'pssd' even please: take never stop mean, persists see drug,</td>\n",
       "      <td>C0029944</td>\n",
       "    </tr>\n",
       "  </tbody>\n",
       "</table>\n",
       "</div>"
      ],
      "text/plain": [
       "   id  \\\n",
       "0   1   \n",
       "1   2   \n",
       "2   3   \n",
       "3   4   \n",
       "4   5   \n",
       "\n",
       "                                                                                                                     Text  \\\n",
       "0                                                                 gain, loss, weight short-term hair memory loss. extreme   \n",
       "1                                                                             completely destroyed . sexually functioning   \n",
       "2                                        two sexual lexapro life. tablets completely probably functioning, destroyed 10mg   \n",
       "3                                                                              pssd: sexual dysfunction. called post-ssri   \n",
       "4  pssd, name one suggests chance taking tablet. google give 'pssd' even please: take never stop mean, persists see drug,   \n",
       "\n",
       "       Code  \n",
       "0  C0701811  \n",
       "1  C0425736  \n",
       "2  C0549622  \n",
       "3  C0549622  \n",
       "4  C0029944  "
      ]
     },
     "execution_count": 35,
     "metadata": {},
     "output_type": "execute_result"
    }
   ],
   "source": [
    "# Предсказание кодов жалоб в complaints_df\n",
    "X_complaints = tfidf_vectorizer.transform(complaints_df['Text'])\n",
    "predicted_codes = model.predict(X_complaints)\n",
    "predicted_labels = label_encoder.inverse_transform(predicted_codes)\n",
    "\n",
    "complaints_df['Code'] = predicted_labels\n",
    "\n",
    "complaints_df.head()"
   ]
  },
  {
   "cell_type": "markdown",
   "id": "10130a08",
   "metadata": {},
   "source": [
    "pssd не распознает, не знает, что это аббревиатура к sexual dysfunction"
   ]
  },
  {
   "cell_type": "code",
   "execution_count": 36,
   "id": "1a71f2b7",
   "metadata": {
    "scrolled": false
   },
   "outputs": [
    {
     "data": {
      "text/plain": [
       "C0037199    194\n",
       "C0234019     70\n",
       "C0392171     70\n",
       "C0043094     67\n",
       "C0027497     64\n",
       "           ... \n",
       "C0241633      1\n",
       "C1821572      1\n",
       "C0586742      1\n",
       "C0522173      1\n",
       "C0028643      1\n",
       "Name: Code, Length: 309, dtype: int64"
      ]
     },
     "execution_count": 36,
     "metadata": {},
     "output_type": "execute_result"
    }
   ],
   "source": [
    "complaints_df['Code'].value_counts()"
   ]
  },
  {
   "cell_type": "markdown",
   "id": "a3e1b2ee",
   "metadata": {},
   "source": [
    "## Сохраняем результаты"
   ]
  },
  {
   "cell_type": "markdown",
   "id": "9fb10737",
   "metadata": {},
   "source": [
    "### Вариант только с айди жалобы и кодами (формат str)"
   ]
  },
  {
   "cell_type": "code",
   "execution_count": 37,
   "id": "5aeb6acd",
   "metadata": {
    "scrolled": true
   },
   "outputs": [
    {
     "data": {
      "text/html": [
       "<div>\n",
       "<style scoped>\n",
       "    .dataframe tbody tr th:only-of-type {\n",
       "        vertical-align: middle;\n",
       "    }\n",
       "\n",
       "    .dataframe tbody tr th {\n",
       "        vertical-align: top;\n",
       "    }\n",
       "\n",
       "    .dataframe thead th {\n",
       "        text-align: right;\n",
       "    }\n",
       "</style>\n",
       "<table border=\"1\" class=\"dataframe\">\n",
       "  <thead>\n",
       "    <tr style=\"text-align: right;\">\n",
       "      <th></th>\n",
       "      <th>id</th>\n",
       "      <th>Code</th>\n",
       "    </tr>\n",
       "  </thead>\n",
       "  <tbody>\n",
       "    <tr>\n",
       "      <th>0</th>\n",
       "      <td>1</td>\n",
       "      <td>C0701811</td>\n",
       "    </tr>\n",
       "    <tr>\n",
       "      <th>1</th>\n",
       "      <td>2</td>\n",
       "      <td>C0425736</td>\n",
       "    </tr>\n",
       "    <tr>\n",
       "      <th>2</th>\n",
       "      <td>3</td>\n",
       "      <td>C0549622</td>\n",
       "    </tr>\n",
       "    <tr>\n",
       "      <th>3</th>\n",
       "      <td>4</td>\n",
       "      <td>C0549622</td>\n",
       "    </tr>\n",
       "    <tr>\n",
       "      <th>4</th>\n",
       "      <td>5</td>\n",
       "      <td>C0029944</td>\n",
       "    </tr>\n",
       "  </tbody>\n",
       "</table>\n",
       "</div>"
      ],
      "text/plain": [
       "   id      Code\n",
       "0   1  C0701811\n",
       "1   2  C0425736\n",
       "2   3  C0549622\n",
       "3   4  C0549622\n",
       "4   5  C0029944"
      ]
     },
     "execution_count": 37,
     "metadata": {},
     "output_type": "execute_result"
    }
   ],
   "source": [
    "cols = ['id', 'Code']\n",
    "adr = complaints_df[cols]\n",
    "adr.head()"
   ]
  },
  {
   "cell_type": "code",
   "execution_count": 38,
   "id": "a8600987",
   "metadata": {},
   "outputs": [],
   "source": [
    "adr.to_csv('tychina_3.csv')"
   ]
  },
  {
   "cell_type": "markdown",
   "id": "2f1bcd2c",
   "metadata": {},
   "source": [
    "### Вариант как в домашнем задании"
   ]
  },
  {
   "cell_type": "code",
   "execution_count": 39,
   "id": "2b4dd073",
   "metadata": {},
   "outputs": [
    {
     "data": {
      "text/html": [
       "<div>\n",
       "<style scoped>\n",
       "    .dataframe tbody tr th:only-of-type {\n",
       "        vertical-align: middle;\n",
       "    }\n",
       "\n",
       "    .dataframe tbody tr th {\n",
       "        vertical-align: top;\n",
       "    }\n",
       "\n",
       "    .dataframe thead th {\n",
       "        text-align: right;\n",
       "    }\n",
       "</style>\n",
       "<table border=\"1\" class=\"dataframe\">\n",
       "  <thead>\n",
       "    <tr style=\"text-align: right;\">\n",
       "      <th></th>\n",
       "      <th>id</th>\n",
       "      <th>Code</th>\n",
       "      <th>level_1</th>\n",
       "      <th>level_2</th>\n",
       "      <th>level_3</th>\n",
       "      <th>level_4</th>\n",
       "      <th>level_5</th>\n",
       "    </tr>\n",
       "  </thead>\n",
       "  <tbody>\n",
       "    <tr>\n",
       "      <th>0</th>\n",
       "      <td>1</td>\n",
       "      <td>C0701811</td>\n",
       "      <td>0</td>\n",
       "      <td>0</td>\n",
       "      <td>0</td>\n",
       "      <td>0</td>\n",
       "      <td>1</td>\n",
       "    </tr>\n",
       "    <tr>\n",
       "      <th>1</th>\n",
       "      <td>2</td>\n",
       "      <td>C0425736</td>\n",
       "      <td>0</td>\n",
       "      <td>0</td>\n",
       "      <td>0</td>\n",
       "      <td>0</td>\n",
       "      <td>1</td>\n",
       "    </tr>\n",
       "    <tr>\n",
       "      <th>2</th>\n",
       "      <td>3</td>\n",
       "      <td>C0549622</td>\n",
       "      <td>0</td>\n",
       "      <td>0</td>\n",
       "      <td>0</td>\n",
       "      <td>0</td>\n",
       "      <td>1</td>\n",
       "    </tr>\n",
       "    <tr>\n",
       "      <th>3</th>\n",
       "      <td>4</td>\n",
       "      <td>C0549622</td>\n",
       "      <td>0</td>\n",
       "      <td>0</td>\n",
       "      <td>0</td>\n",
       "      <td>0</td>\n",
       "      <td>1</td>\n",
       "    </tr>\n",
       "    <tr>\n",
       "      <th>4</th>\n",
       "      <td>5</td>\n",
       "      <td>C0029944</td>\n",
       "      <td>0</td>\n",
       "      <td>0</td>\n",
       "      <td>0</td>\n",
       "      <td>0</td>\n",
       "      <td>1</td>\n",
       "    </tr>\n",
       "  </tbody>\n",
       "</table>\n",
       "</div>"
      ],
      "text/plain": [
       "   id      Code  level_1  level_2  level_3  level_4  level_5\n",
       "0   1  C0701811        0        0        0        0        1\n",
       "1   2  C0425736        0        0        0        0        1\n",
       "2   3  C0549622        0        0        0        0        1\n",
       "3   4  C0549622        0        0        0        0        1\n",
       "4   5  C0029944        0        0        0        0        1"
      ]
     },
     "execution_count": 39,
     "metadata": {},
     "output_type": "execute_result"
    }
   ],
   "source": [
    "for el in range(1, 5):\n",
    "    col_name = 'level_' + str(el)\n",
    "    adr[col_name] = 0\n",
    "\n",
    "adr['level_5'] = 1\n",
    "adr.head()"
   ]
  },
  {
   "cell_type": "code",
   "execution_count": 41,
   "id": "a398297b",
   "metadata": {},
   "outputs": [],
   "source": [
    "adr.to_csv('tychina_3_2.csv') # не убирала индексы!!"
   ]
  },
  {
   "cell_type": "markdown",
   "id": "4c820c37",
   "metadata": {},
   "source": [
    "**Но! Тут только один код, можно попробовать мультиклассовую классификацию (чтоб, например, под gain loss hair memory loss. weight short-term extreme все-таки три кода выдавала модель)**"
   ]
  },
  {
   "cell_type": "code",
   "execution_count": 28,
   "id": "6b34d4cb",
   "metadata": {
    "scrolled": true
   },
   "outputs": [
    {
     "name": "stderr",
     "output_type": "stream",
     "text": [
      "Some weights of the model checkpoint at microsoft/BiomedNLP-PubMedBERT-base-uncased-abstract-fulltext were not used when initializing BertForTokenClassification: ['cls.predictions.transform.LayerNorm.bias', 'cls.predictions.decoder.bias', 'cls.seq_relationship.bias', 'cls.seq_relationship.weight', 'cls.predictions.transform.dense.weight', 'cls.predictions.transform.dense.bias', 'cls.predictions.decoder.weight', 'cls.predictions.bias', 'cls.predictions.transform.LayerNorm.weight']\n",
      "- This IS expected if you are initializing BertForTokenClassification from the checkpoint of a model trained on another task or with another architecture (e.g. initializing a BertForSequenceClassification model from a BertForPreTraining model).\n",
      "- This IS NOT expected if you are initializing BertForTokenClassification from the checkpoint of a model that you expect to be exactly identical (initializing a BertForSequenceClassification model from a BertForSequenceClassification model).\n",
      "Some weights of BertForTokenClassification were not initialized from the model checkpoint at microsoft/BiomedNLP-PubMedBERT-base-uncased-abstract-fulltext and are newly initialized: ['classifier.weight', 'classifier.bias']\n",
      "You should probably TRAIN this model on a down-stream task to be able to use it for predictions and inference.\n"
     ]
    }
   ],
   "source": [
    "from transformers import BertTokenizer, BertForTokenClassification, AdamW\n",
    "import torch\n",
    "from transformers import pipeline\n",
    "\n",
    "\n",
    "# Load pre-trained BERT model and tokenizer\n",
    "model_name = 'microsoft/BiomedNLP-PubMedBERT-base-uncased-abstract-fulltext'\n",
    "tokenizer = BertTokenizer.from_pretrained(model_name)\n",
    "model = BertForTokenClassification.from_pretrained(model_name, num_labels=529)"
   ]
  },
  {
   "cell_type": "code",
   "execution_count": 29,
   "id": "0ea60e6c",
   "metadata": {},
   "outputs": [],
   "source": [
    "cui_mappings = train_df.set_index('CUI')['TEXT'].to_dict()\n",
    "\n",
    "# 2й вариант\n",
    "# cui_mapping = dict(zip(train_df['TEXT'], train_df['CUI']))\n",
    "\n",
    "# Добавление мэппинга в модель BERT\n",
    "model.bert_cui_mapping = cui_mappings"
   ]
  },
  {
   "cell_type": "code",
   "execution_count": 30,
   "id": "dd01f30e",
   "metadata": {},
   "outputs": [],
   "source": [
    "# Define a function to extract CUIs from text using the NER pipeline\n",
    "def extract_cuis(text):\n",
    "    ner_pipeline = pipeline(\"ner\", model=model, tokenizer=tokenizer)\n",
    "    results = ner_pipeline(text)\n",
    "    cuis = []\n",
    "    \n",
    "    for result in results:\n",
    "        if result['entity'] == 'CUI':\n",
    "            cuis.append(result['word'])\n",
    "            \n",
    "    return cuis"
   ]
  },
  {
   "cell_type": "code",
   "execution_count": 31,
   "id": "d5173e20",
   "metadata": {},
   "outputs": [
    {
     "name": "stderr",
     "output_type": "stream",
     "text": [
      "Asking to truncate to max_length but no maximum length is provided and the model has no predefined maximum length. Default to no truncation.\n"
     ]
    },
    {
     "data": {
      "text/html": [
       "<div>\n",
       "<style scoped>\n",
       "    .dataframe tbody tr th:only-of-type {\n",
       "        vertical-align: middle;\n",
       "    }\n",
       "\n",
       "    .dataframe tbody tr th {\n",
       "        vertical-align: top;\n",
       "    }\n",
       "\n",
       "    .dataframe thead th {\n",
       "        text-align: right;\n",
       "    }\n",
       "</style>\n",
       "<table border=\"1\" class=\"dataframe\">\n",
       "  <thead>\n",
       "    <tr style=\"text-align: right;\">\n",
       "      <th></th>\n",
       "      <th>id</th>\n",
       "      <th>Text</th>\n",
       "      <th>Code</th>\n",
       "    </tr>\n",
       "  </thead>\n",
       "  <tbody>\n",
       "    <tr>\n",
       "      <th>0</th>\n",
       "      <td>1</td>\n",
       "      <td>gain, loss, weight short-term hair memory loss. extreme</td>\n",
       "      <td>[]</td>\n",
       "    </tr>\n",
       "    <tr>\n",
       "      <th>1</th>\n",
       "      <td>2</td>\n",
       "      <td>completely destroyed . sexually functioning</td>\n",
       "      <td>[]</td>\n",
       "    </tr>\n",
       "    <tr>\n",
       "      <th>2</th>\n",
       "      <td>3</td>\n",
       "      <td>two sexual lexapro life. tablets completely probably functioning, destroyed 10mg</td>\n",
       "      <td>[]</td>\n",
       "    </tr>\n",
       "    <tr>\n",
       "      <th>3</th>\n",
       "      <td>4</td>\n",
       "      <td>pssd: sexual dysfunction. called post-ssri</td>\n",
       "      <td>[]</td>\n",
       "    </tr>\n",
       "    <tr>\n",
       "      <th>4</th>\n",
       "      <td>5</td>\n",
       "      <td>pssd, name one suggests chance taking tablet. google give 'pssd' even please: take never stop mean, persists see drug,</td>\n",
       "      <td>[]</td>\n",
       "    </tr>\n",
       "  </tbody>\n",
       "</table>\n",
       "</div>"
      ],
      "text/plain": [
       "   id  \\\n",
       "0   1   \n",
       "1   2   \n",
       "2   3   \n",
       "3   4   \n",
       "4   5   \n",
       "\n",
       "                                                                                                                     Text  \\\n",
       "0                                                                 gain, loss, weight short-term hair memory loss. extreme   \n",
       "1                                                                             completely destroyed . sexually functioning   \n",
       "2                                        two sexual lexapro life. tablets completely probably functioning, destroyed 10mg   \n",
       "3                                                                              pssd: sexual dysfunction. called post-ssri   \n",
       "4  pssd, name one suggests chance taking tablet. google give 'pssd' even please: take never stop mean, persists see drug,   \n",
       "\n",
       "  Code  \n",
       "0   []  \n",
       "1   []  \n",
       "2   []  \n",
       "3   []  \n",
       "4   []  "
      ]
     },
     "execution_count": 31,
     "metadata": {},
     "output_type": "execute_result"
    }
   ],
   "source": [
    "complaints_df['Code'] = complaints_df['Text'].apply(lambda x: extract_cuis(x))\n",
    "\n",
    "complaints_df.head()"
   ]
  },
  {
   "cell_type": "code",
   "execution_count": 33,
   "id": "aa454d93",
   "metadata": {},
   "outputs": [
    {
     "data": {
      "text/plain": [
       "[]    2150\n",
       "Name: Code, dtype: int64"
      ]
     },
     "execution_count": 33,
     "metadata": {},
     "output_type": "execute_result"
    }
   ],
   "source": [
    "complaints_df['Code'].value_counts()"
   ]
  }
 ],
 "metadata": {
  "kernelspec": {
   "display_name": "Python 3 (ipykernel)",
   "language": "python",
   "name": "python3"
  },
  "language_info": {
   "codemirror_mode": {
    "name": "ipython",
    "version": 3
   },
   "file_extension": ".py",
   "mimetype": "text/x-python",
   "name": "python",
   "nbconvert_exporter": "python",
   "pygments_lexer": "ipython3",
   "version": "3.10.8"
  }
 },
 "nbformat": 4,
 "nbformat_minor": 5
}
